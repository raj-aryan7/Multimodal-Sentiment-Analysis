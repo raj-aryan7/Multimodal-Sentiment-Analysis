{
 "cells": [
  {
   "cell_type": "code",
   "execution_count": 1,
   "metadata": {
    "colab": {
     "base_uri": "https://localhost:8080/"
    },
    "id": "Fx3LPid9oo5B",
    "outputId": "c1950caf-6681-43a0-cf5a-35529cdc4c01"
   },
   "outputs": [
    {
     "name": "stdout",
     "output_type": "stream",
     "text": [
      "Defaulting to user installation because normal site-packages is not writeable\n",
      "Requirement already satisfied: transformers in c:\\users\\rajar\\appdata\\roaming\\python\\python312\\site-packages (4.47.1)\n",
      "Collecting transformers\n",
      "  Downloading transformers-4.48.1-py3-none-any.whl.metadata (44 kB)\n",
      "Requirement already satisfied: filelock in c:\\users\\rajar\\appdata\\roaming\\python\\python312\\site-packages (from transformers) (3.13.1)\n",
      "Requirement already satisfied: huggingface-hub<1.0,>=0.24.0 in c:\\users\\rajar\\appdata\\roaming\\python\\python312\\site-packages (from transformers) (0.27.0)\n",
      "Requirement already satisfied: numpy>=1.17 in c:\\users\\rajar\\appdata\\roaming\\python\\python312\\site-packages (from transformers) (1.26.2)\n",
      "Requirement already satisfied: packaging>=20.0 in c:\\users\\rajar\\appdata\\roaming\\python\\python312\\site-packages (from transformers) (23.2)\n",
      "Requirement already satisfied: pyyaml>=5.1 in c:\\users\\rajar\\appdata\\roaming\\python\\python312\\site-packages (from transformers) (6.0.1)\n",
      "Requirement already satisfied: regex!=2019.12.17 in c:\\users\\rajar\\appdata\\roaming\\python\\python312\\site-packages (from transformers) (2023.12.25)\n",
      "Requirement already satisfied: requests in c:\\users\\rajar\\appdata\\roaming\\python\\python312\\site-packages (from transformers) (2.31.0)\n",
      "Requirement already satisfied: tokenizers<0.22,>=0.21 in c:\\users\\rajar\\appdata\\roaming\\python\\python312\\site-packages (from transformers) (0.21.0)\n",
      "Requirement already satisfied: safetensors>=0.4.1 in c:\\users\\rajar\\appdata\\roaming\\python\\python312\\site-packages (from transformers) (0.4.5)\n",
      "Requirement already satisfied: tqdm>=4.27 in c:\\users\\rajar\\appdata\\roaming\\python\\python312\\site-packages (from transformers) (4.66.2)\n",
      "Requirement already satisfied: fsspec>=2023.5.0 in c:\\users\\rajar\\appdata\\roaming\\python\\python312\\site-packages (from huggingface-hub<1.0,>=0.24.0->transformers) (2024.12.0)\n",
      "Requirement already satisfied: typing-extensions>=3.7.4.3 in c:\\users\\rajar\\appdata\\roaming\\python\\python312\\site-packages (from huggingface-hub<1.0,>=0.24.0->transformers) (4.12.2)\n",
      "Requirement already satisfied: colorama in c:\\users\\rajar\\appdata\\roaming\\python\\python312\\site-packages (from tqdm>=4.27->transformers) (0.4.6)\n",
      "Requirement already satisfied: charset-normalizer<4,>=2 in c:\\users\\rajar\\appdata\\roaming\\python\\python312\\site-packages (from requests->transformers) (3.3.2)\n",
      "Requirement already satisfied: idna<4,>=2.5 in c:\\users\\rajar\\appdata\\roaming\\python\\python312\\site-packages (from requests->transformers) (3.6)\n",
      "Requirement already satisfied: urllib3<3,>=1.21.1 in c:\\users\\rajar\\appdata\\roaming\\python\\python312\\site-packages (from requests->transformers) (2.1.0)\n",
      "Requirement already satisfied: certifi>=2017.4.17 in c:\\users\\rajar\\appdata\\roaming\\python\\python312\\site-packages (from requests->transformers) (2023.11.17)\n",
      "Downloading transformers-4.48.1-py3-none-any.whl (9.7 MB)\n",
      "   ---------------------------------------- 0.0/9.7 MB ? eta -:--:--\n",
      "   -- ------------------------------------- 0.5/9.7 MB 4.2 MB/s eta 0:00:03\n",
      "   ---- ----------------------------------- 1.0/9.7 MB 3.1 MB/s eta 0:00:03\n",
      "   ------ --------------------------------- 1.6/9.7 MB 3.1 MB/s eta 0:00:03\n",
      "   -------- ------------------------------- 2.1/9.7 MB 2.9 MB/s eta 0:00:03\n",
      "   --------- ------------------------------ 2.4/9.7 MB 2.8 MB/s eta 0:00:03\n",
      "   ---------- ----------------------------- 2.6/9.7 MB 2.4 MB/s eta 0:00:03\n",
      "   ----------- ---------------------------- 2.9/9.7 MB 2.0 MB/s eta 0:00:04\n",
      "   ----------- ---------------------------- 2.9/9.7 MB 2.0 MB/s eta 0:00:04\n",
      "   ------------- -------------------------- 3.1/9.7 MB 1.7 MB/s eta 0:00:04\n",
      "   ------------- -------------------------- 3.1/9.7 MB 1.7 MB/s eta 0:00:04\n",
      "   -------------- ------------------------- 3.4/9.7 MB 1.5 MB/s eta 0:00:05\n",
      "   --------------- ------------------------ 3.7/9.7 MB 1.5 MB/s eta 0:00:05\n",
      "   --------------- ------------------------ 3.7/9.7 MB 1.5 MB/s eta 0:00:05\n",
      "   ---------------- ----------------------- 3.9/9.7 MB 1.4 MB/s eta 0:00:05\n",
      "   ----------------- ---------------------- 4.2/9.7 MB 1.4 MB/s eta 0:00:04\n",
      "   ------------------ --------------------- 4.5/9.7 MB 1.3 MB/s eta 0:00:04\n",
      "   ------------------- -------------------- 4.7/9.7 MB 1.3 MB/s eta 0:00:04\n",
      "   -------------------- ------------------- 5.0/9.7 MB 1.3 MB/s eta 0:00:04\n",
      "   --------------------- ------------------ 5.2/9.7 MB 1.3 MB/s eta 0:00:04\n",
      "   ---------------------- ----------------- 5.5/9.7 MB 1.3 MB/s eta 0:00:04\n",
      "   ---------------------- ----------------- 5.5/9.7 MB 1.3 MB/s eta 0:00:04\n",
      "   ----------------------- ---------------- 5.8/9.7 MB 1.3 MB/s eta 0:00:04\n",
      "   ------------------------ --------------- 6.0/9.7 MB 1.2 MB/s eta 0:00:03\n",
      "   ------------------------ --------------- 6.0/9.7 MB 1.2 MB/s eta 0:00:03\n",
      "   -------------------------- ------------- 6.3/9.7 MB 1.2 MB/s eta 0:00:03\n",
      "   --------------------------- ------------ 6.6/9.7 MB 1.2 MB/s eta 0:00:03\n",
      "   ---------------------------- ----------- 6.8/9.7 MB 1.2 MB/s eta 0:00:03\n",
      "   ---------------------------- ----------- 6.8/9.7 MB 1.2 MB/s eta 0:00:03\n",
      "   ----------------------------- ---------- 7.1/9.7 MB 1.2 MB/s eta 0:00:03\n",
      "   ------------------------------ --------- 7.3/9.7 MB 1.2 MB/s eta 0:00:02\n",
      "   ------------------------------ --------- 7.3/9.7 MB 1.2 MB/s eta 0:00:02\n",
      "   ------------------------------- -------- 7.6/9.7 MB 1.2 MB/s eta 0:00:02\n",
      "   ------------------------------- -------- 7.6/9.7 MB 1.2 MB/s eta 0:00:02\n",
      "   -------------------------------- ------- 7.9/9.7 MB 1.1 MB/s eta 0:00:02\n",
      "   -------------------------------- ------- 7.9/9.7 MB 1.1 MB/s eta 0:00:02\n",
      "   --------------------------------- ------ 8.1/9.7 MB 1.1 MB/s eta 0:00:02\n",
      "   ---------------------------------- ----- 8.4/9.7 MB 1.1 MB/s eta 0:00:02\n",
      "   ---------------------------------- ----- 8.4/9.7 MB 1.1 MB/s eta 0:00:02\n",
      "   ----------------------------------- ---- 8.7/9.7 MB 1.1 MB/s eta 0:00:01\n",
      "   ----------------------------------- ---- 8.7/9.7 MB 1.1 MB/s eta 0:00:01\n",
      "   ------------------------------------ --- 8.9/9.7 MB 1.1 MB/s eta 0:00:01\n",
      "   ------------------------------------ --- 8.9/9.7 MB 1.1 MB/s eta 0:00:01\n",
      "   ------------------------------------ --- 8.9/9.7 MB 1.1 MB/s eta 0:00:01\n",
      "   ------------------------------------- -- 9.2/9.7 MB 1.0 MB/s eta 0:00:01\n",
      "   ------------------------------------- -- 9.2/9.7 MB 1.0 MB/s eta 0:00:01\n",
      "   ------------------------------------- -- 9.2/9.7 MB 1.0 MB/s eta 0:00:01\n",
      "   ---------------------------------------  9.4/9.7 MB 973.8 kB/s eta 0:00:01\n",
      "   ---------------------------------------- 9.7/9.7 MB 956.7 kB/s eta 0:00:00\n",
      "Installing collected packages: transformers\n",
      "  Attempting uninstall: transformers\n",
      "    Found existing installation: transformers 4.47.1\n",
      "    Uninstalling transformers-4.47.1:\n",
      "      Successfully uninstalled transformers-4.47.1\n",
      "Successfully installed transformers-4.48.1\n",
      "Defaulting to user installation because normal site-packages is not writeable\n",
      "Collecting accelerate\n",
      "  Downloading accelerate-1.3.0-py3-none-any.whl.metadata (19 kB)\n",
      "Requirement already satisfied: numpy<3.0.0,>=1.17 in c:\\users\\rajar\\appdata\\roaming\\python\\python312\\site-packages (from accelerate) (1.26.2)\n",
      "Requirement already satisfied: packaging>=20.0 in c:\\users\\rajar\\appdata\\roaming\\python\\python312\\site-packages (from accelerate) (23.2)\n",
      "Requirement already satisfied: psutil in c:\\users\\rajar\\appdata\\roaming\\python\\python312\\site-packages (from accelerate) (5.9.6)\n",
      "Requirement already satisfied: pyyaml in c:\\users\\rajar\\appdata\\roaming\\python\\python312\\site-packages (from accelerate) (6.0.1)\n",
      "Collecting torch>=2.0.0 (from accelerate)\n",
      "  Downloading torch-2.5.1-cp312-cp312-win_amd64.whl.metadata (28 kB)\n",
      "Requirement already satisfied: huggingface-hub>=0.21.0 in c:\\users\\rajar\\appdata\\roaming\\python\\python312\\site-packages (from accelerate) (0.27.0)\n",
      "Requirement already satisfied: safetensors>=0.4.3 in c:\\users\\rajar\\appdata\\roaming\\python\\python312\\site-packages (from accelerate) (0.4.5)\n",
      "Requirement already satisfied: filelock in c:\\users\\rajar\\appdata\\roaming\\python\\python312\\site-packages (from huggingface-hub>=0.21.0->accelerate) (3.13.1)\n",
      "Requirement already satisfied: fsspec>=2023.5.0 in c:\\users\\rajar\\appdata\\roaming\\python\\python312\\site-packages (from huggingface-hub>=0.21.0->accelerate) (2024.12.0)\n",
      "Requirement already satisfied: requests in c:\\users\\rajar\\appdata\\roaming\\python\\python312\\site-packages (from huggingface-hub>=0.21.0->accelerate) (2.31.0)\n",
      "Requirement already satisfied: tqdm>=4.42.1 in c:\\users\\rajar\\appdata\\roaming\\python\\python312\\site-packages (from huggingface-hub>=0.21.0->accelerate) (4.66.2)\n",
      "Requirement already satisfied: typing-extensions>=3.7.4.3 in c:\\users\\rajar\\appdata\\roaming\\python\\python312\\site-packages (from huggingface-hub>=0.21.0->accelerate) (4.12.2)\n",
      "Requirement already satisfied: networkx in c:\\users\\rajar\\appdata\\roaming\\python\\python312\\site-packages (from torch>=2.0.0->accelerate) (3.4.2)\n",
      "Requirement already satisfied: jinja2 in c:\\users\\rajar\\appdata\\roaming\\python\\python312\\site-packages (from torch>=2.0.0->accelerate) (3.1.2)\n",
      "Requirement already satisfied: setuptools in c:\\users\\rajar\\appdata\\roaming\\python\\python312\\site-packages (from torch>=2.0.0->accelerate) (69.1.1)\n",
      "Collecting sympy==1.13.1 (from torch>=2.0.0->accelerate)\n",
      "  Downloading sympy-1.13.1-py3-none-any.whl.metadata (12 kB)\n",
      "Collecting mpmath<1.4,>=1.1.0 (from sympy==1.13.1->torch>=2.0.0->accelerate)\n",
      "  Downloading mpmath-1.3.0-py3-none-any.whl.metadata (8.6 kB)\n",
      "Requirement already satisfied: colorama in c:\\users\\rajar\\appdata\\roaming\\python\\python312\\site-packages (from tqdm>=4.42.1->huggingface-hub>=0.21.0->accelerate) (0.4.6)\n",
      "Requirement already satisfied: MarkupSafe>=2.0 in c:\\users\\rajar\\appdata\\roaming\\python\\python312\\site-packages (from jinja2->torch>=2.0.0->accelerate) (2.1.3)\n",
      "Requirement already satisfied: charset-normalizer<4,>=2 in c:\\users\\rajar\\appdata\\roaming\\python\\python312\\site-packages (from requests->huggingface-hub>=0.21.0->accelerate) (3.3.2)\n",
      "Requirement already satisfied: idna<4,>=2.5 in c:\\users\\rajar\\appdata\\roaming\\python\\python312\\site-packages (from requests->huggingface-hub>=0.21.0->accelerate) (3.6)\n",
      "Requirement already satisfied: urllib3<3,>=1.21.1 in c:\\users\\rajar\\appdata\\roaming\\python\\python312\\site-packages (from requests->huggingface-hub>=0.21.0->accelerate) (2.1.0)\n",
      "Requirement already satisfied: certifi>=2017.4.17 in c:\\users\\rajar\\appdata\\roaming\\python\\python312\\site-packages (from requests->huggingface-hub>=0.21.0->accelerate) (2023.11.17)\n",
      "Downloading accelerate-1.3.0-py3-none-any.whl (336 kB)\n",
      "Downloading torch-2.5.1-cp312-cp312-win_amd64.whl (203.0 MB)\n",
      "   ---------------------------------------- 0.0/203.0 MB ? eta -:--:--\n",
      "    --------------------------------------- 3.9/203.0 MB 19.6 MB/s eta 0:00:11\n",
      "    --------------------------------------- 4.5/203.0 MB 19.2 MB/s eta 0:00:11\n",
      "    --------------------------------------- 4.5/203.0 MB 19.2 MB/s eta 0:00:11\n",
      "    --------------------------------------- 5.0/203.0 MB 5.9 MB/s eta 0:00:34\n",
      "   - -------------------------------------- 7.1/203.0 MB 7.4 MB/s eta 0:00:27\n",
      "   - -------------------------------------- 7.1/203.0 MB 7.4 MB/s eta 0:00:27\n",
      "   - -------------------------------------- 7.1/203.0 MB 7.4 MB/s eta 0:00:27\n",
      "   -- ------------------------------------- 10.5/203.0 MB 6.4 MB/s eta 0:00:31\n",
      "   -- ------------------------------------- 10.5/203.0 MB 6.4 MB/s eta 0:00:31\n",
      "   -- ------------------------------------- 11.8/203.0 MB 5.6 MB/s eta 0:00:35\n",
      "   -- ------------------------------------- 13.6/203.0 MB 5.9 MB/s eta 0:00:33\n",
      "   --- ------------------------------------ 16.5/203.0 MB 6.6 MB/s eta 0:00:29\n",
      "   --- ------------------------------------ 16.5/203.0 MB 6.6 MB/s eta 0:00:29\n",
      "   --- ------------------------------------ 16.5/203.0 MB 6.6 MB/s eta 0:00:29\n",
      "   --- ------------------------------------ 19.4/203.0 MB 6.2 MB/s eta 0:00:30\n",
      "   --- ------------------------------------ 19.4/203.0 MB 6.2 MB/s eta 0:00:30\n",
      "   --- ------------------------------------ 19.4/203.0 MB 6.2 MB/s eta 0:00:30\n",
      "   ---- ----------------------------------- 20.4/203.0 MB 5.5 MB/s eta 0:00:34\n",
      "   ---- ----------------------------------- 23.1/203.0 MB 5.8 MB/s eta 0:00:31\n",
      "   ---- ----------------------------------- 24.4/203.0 MB 6.0 MB/s eta 0:00:30\n",
      "   ---- ----------------------------------- 24.4/203.0 MB 6.0 MB/s eta 0:00:30\n",
      "   ---- ----------------------------------- 24.6/203.0 MB 5.3 MB/s eta 0:00:34\n",
      "   ---- ----------------------------------- 25.2/203.0 MB 5.3 MB/s eta 0:00:34\n",
      "   ----- ---------------------------------- 27.3/203.0 MB 5.4 MB/s eta 0:00:33\n",
      "   ----- ---------------------------------- 29.4/203.0 MB 5.6 MB/s eta 0:00:31\n",
      "   ----- ---------------------------------- 29.6/203.0 MB 5.7 MB/s eta 0:00:31\n",
      "   ----- ---------------------------------- 29.6/203.0 MB 5.7 MB/s eta 0:00:31\n",
      "   ----- ---------------------------------- 29.9/203.0 MB 5.1 MB/s eta 0:00:34\n",
      "   ----- ---------------------------------- 30.4/203.0 MB 5.0 MB/s eta 0:00:35\n",
      "   ------ --------------------------------- 32.0/203.0 MB 5.1 MB/s eta 0:00:34\n",
      "   ------ --------------------------------- 33.6/203.0 MB 5.2 MB/s eta 0:00:33\n",
      "   ------ --------------------------------- 33.6/203.0 MB 5.2 MB/s eta 0:00:33\n",
      "   ------ --------------------------------- 33.8/203.0 MB 5.0 MB/s eta 0:00:35\n",
      "   ------ --------------------------------- 34.6/203.0 MB 4.9 MB/s eta 0:00:35\n",
      "   ------- -------------------------------- 35.9/203.0 MB 4.9 MB/s eta 0:00:34\n",
      "   ------- -------------------------------- 37.2/203.0 MB 5.0 MB/s eta 0:00:34\n",
      "   ------- -------------------------------- 38.3/203.0 MB 5.0 MB/s eta 0:00:34\n",
      "   ------- -------------------------------- 39.1/203.0 MB 4.9 MB/s eta 0:00:34\n",
      "   ------- -------------------------------- 40.1/203.0 MB 4.9 MB/s eta 0:00:33\n",
      "   -------- ------------------------------- 41.2/203.0 MB 4.9 MB/s eta 0:00:33\n",
      "   -------- ------------------------------- 42.2/203.0 MB 4.9 MB/s eta 0:00:33\n",
      "   -------- ------------------------------- 42.7/203.0 MB 4.9 MB/s eta 0:00:33\n",
      "   -------- ------------------------------- 43.5/203.0 MB 4.9 MB/s eta 0:00:33\n",
      "   -------- ------------------------------- 44.3/203.0 MB 4.8 MB/s eta 0:00:33\n",
      "   -------- ------------------------------- 45.1/203.0 MB 4.8 MB/s eta 0:00:33\n",
      "   --------- ------------------------------ 45.9/203.0 MB 4.8 MB/s eta 0:00:33\n",
      "   --------- ------------------------------ 46.7/203.0 MB 4.8 MB/s eta 0:00:33\n",
      "   --------- ------------------------------ 47.4/203.0 MB 4.8 MB/s eta 0:00:33\n",
      "   --------- ------------------------------ 48.2/203.0 MB 4.7 MB/s eta 0:00:33\n",
      "   --------- ------------------------------ 49.0/203.0 MB 4.7 MB/s eta 0:00:33\n",
      "   --------- ------------------------------ 50.1/203.0 MB 4.7 MB/s eta 0:00:33\n",
      "   ---------- ----------------------------- 50.9/203.0 MB 4.7 MB/s eta 0:00:33\n",
      "   ---------- ----------------------------- 51.4/203.0 MB 4.7 MB/s eta 0:00:33\n",
      "   ---------- ----------------------------- 52.2/203.0 MB 4.6 MB/s eta 0:00:33\n",
      "   ---------- ----------------------------- 53.0/203.0 MB 4.6 MB/s eta 0:00:33\n",
      "   ---------- ----------------------------- 54.0/203.0 MB 4.6 MB/s eta 0:00:33\n",
      "   ---------- ----------------------------- 54.8/203.0 MB 4.6 MB/s eta 0:00:32\n",
      "   ---------- ----------------------------- 55.8/203.0 MB 4.6 MB/s eta 0:00:32\n",
      "   ----------- ---------------------------- 56.9/203.0 MB 4.6 MB/s eta 0:00:32\n",
      "   ----------- ---------------------------- 57.4/203.0 MB 4.6 MB/s eta 0:00:32\n",
      "   ----------- ---------------------------- 58.2/203.0 MB 4.6 MB/s eta 0:00:32\n",
      "   ----------- ---------------------------- 59.0/203.0 MB 4.6 MB/s eta 0:00:32\n",
      "   ----------- ---------------------------- 60.0/203.0 MB 4.6 MB/s eta 0:00:32\n",
      "   ------------ --------------------------- 61.1/203.0 MB 4.6 MB/s eta 0:00:31\n",
      "   ------------ --------------------------- 61.9/203.0 MB 4.6 MB/s eta 0:00:31\n",
      "   ------------ --------------------------- 62.9/203.0 MB 4.6 MB/s eta 0:00:31\n",
      "   ------------ --------------------------- 64.0/203.0 MB 4.6 MB/s eta 0:00:31\n",
      "   ------------ --------------------------- 65.0/203.0 MB 4.6 MB/s eta 0:00:30\n",
      "   ------------- -------------------------- 66.1/203.0 MB 4.6 MB/s eta 0:00:30\n",
      "   ------------- -------------------------- 67.4/203.0 MB 4.6 MB/s eta 0:00:30\n",
      "   ------------- -------------------------- 68.4/203.0 MB 4.6 MB/s eta 0:00:30\n",
      "   ------------- -------------------------- 69.7/203.0 MB 4.7 MB/s eta 0:00:29\n",
      "   ------------- -------------------------- 70.8/203.0 MB 4.7 MB/s eta 0:00:29\n",
      "   -------------- ------------------------- 71.8/203.0 MB 4.7 MB/s eta 0:00:29\n",
      "   -------------- ------------------------- 72.6/203.0 MB 4.7 MB/s eta 0:00:29\n",
      "   -------------- ------------------------- 73.7/203.0 MB 4.7 MB/s eta 0:00:28\n",
      "   -------------- ------------------------- 75.0/203.0 MB 4.7 MB/s eta 0:00:28\n",
      "   -------------- ------------------------- 76.0/203.0 MB 4.7 MB/s eta 0:00:28\n",
      "   --------------- ------------------------ 77.3/203.0 MB 4.7 MB/s eta 0:00:27\n",
      "   --------------- ------------------------ 78.6/203.0 MB 4.7 MB/s eta 0:00:27\n",
      "   --------------- ------------------------ 80.0/203.0 MB 4.7 MB/s eta 0:00:26\n",
      "   --------------- ------------------------ 81.0/203.0 MB 4.7 MB/s eta 0:00:26\n",
      "   ---------------- ----------------------- 81.8/203.0 MB 4.7 MB/s eta 0:00:26\n",
      "   ---------------- ----------------------- 82.8/203.0 MB 4.7 MB/s eta 0:00:26\n",
      "   ---------------- ----------------------- 83.4/203.0 MB 4.7 MB/s eta 0:00:26\n",
      "   ---------------- ----------------------- 83.6/203.0 MB 4.7 MB/s eta 0:00:26\n",
      "   ---------------- ----------------------- 84.7/203.0 MB 4.7 MB/s eta 0:00:26\n",
      "   ---------------- ----------------------- 85.7/203.0 MB 4.7 MB/s eta 0:00:26\n",
      "   ----------------- ---------------------- 86.8/203.0 MB 4.7 MB/s eta 0:00:25\n",
      "   ----------------- ---------------------- 88.1/203.0 MB 4.7 MB/s eta 0:00:25\n",
      "   ----------------- ---------------------- 89.1/203.0 MB 4.7 MB/s eta 0:00:25\n",
      "   ----------------- ---------------------- 90.4/203.0 MB 4.7 MB/s eta 0:00:24\n",
      "   ------------------ --------------------- 91.5/203.0 MB 4.7 MB/s eta 0:00:24\n",
      "   ------------------ --------------------- 92.8/203.0 MB 4.7 MB/s eta 0:00:24\n",
      "   ------------------ --------------------- 93.8/203.0 MB 4.7 MB/s eta 0:00:24\n",
      "   ------------------ --------------------- 94.9/203.0 MB 4.7 MB/s eta 0:00:23\n",
      "   ------------------ --------------------- 96.2/203.0 MB 4.8 MB/s eta 0:00:23\n",
      "   ------------------- -------------------- 97.5/203.0 MB 4.8 MB/s eta 0:00:23\n",
      "   ------------------- -------------------- 98.8/203.0 MB 4.8 MB/s eta 0:00:22\n",
      "   ------------------- -------------------- 99.9/203.0 MB 4.8 MB/s eta 0:00:22\n",
      "   ------------------- -------------------- 100.9/203.0 MB 4.8 MB/s eta 0:00:22\n",
      "   -------------------- ------------------- 102.0/203.0 MB 4.8 MB/s eta 0:00:22\n",
      "   -------------------- ------------------- 103.0/203.0 MB 4.8 MB/s eta 0:00:21\n",
      "   -------------------- ------------------- 103.8/203.0 MB 4.8 MB/s eta 0:00:21\n",
      "   -------------------- ------------------- 104.9/203.0 MB 4.8 MB/s eta 0:00:21\n",
      "   -------------------- ------------------- 105.9/203.0 MB 4.8 MB/s eta 0:00:21\n",
      "   --------------------- ------------------ 107.2/203.0 MB 4.8 MB/s eta 0:00:20\n",
      "   --------------------- ------------------ 108.3/203.0 MB 4.8 MB/s eta 0:00:20\n",
      "   --------------------- ------------------ 109.6/203.0 MB 4.8 MB/s eta 0:00:20\n",
      "   --------------------- ------------------ 110.6/203.0 MB 4.8 MB/s eta 0:00:20\n",
      "   --------------------- ------------------ 111.7/203.0 MB 4.8 MB/s eta 0:00:19\n",
      "   ---------------------- ----------------- 113.0/203.0 MB 4.8 MB/s eta 0:00:19\n",
      "   ---------------------- ----------------- 114.3/203.0 MB 4.8 MB/s eta 0:00:19\n",
      "   ---------------------- ----------------- 115.3/203.0 MB 4.8 MB/s eta 0:00:19\n",
      "   ---------------------- ----------------- 116.7/203.0 MB 4.9 MB/s eta 0:00:18\n",
      "   ----------------------- ---------------- 117.7/203.0 MB 4.9 MB/s eta 0:00:18\n",
      "   ----------------------- ---------------- 118.8/203.0 MB 4.9 MB/s eta 0:00:18\n",
      "   ----------------------- ---------------- 119.8/203.0 MB 4.9 MB/s eta 0:00:18\n",
      "   ----------------------- ---------------- 120.8/203.0 MB 4.9 MB/s eta 0:00:17\n",
      "   ------------------------ --------------- 122.2/203.0 MB 4.9 MB/s eta 0:00:17\n",
      "   ------------------------ --------------- 123.5/203.0 MB 4.9 MB/s eta 0:00:17\n",
      "   ------------------------ --------------- 124.8/203.0 MB 4.9 MB/s eta 0:00:16\n",
      "   ------------------------ --------------- 125.8/203.0 MB 4.9 MB/s eta 0:00:16\n",
      "   ------------------------ --------------- 126.6/203.0 MB 4.9 MB/s eta 0:00:16\n",
      "   ------------------------- -------------- 127.7/203.0 MB 4.9 MB/s eta 0:00:16\n",
      "   ------------------------- -------------- 128.7/203.0 MB 4.9 MB/s eta 0:00:16\n",
      "   ------------------------- -------------- 129.8/203.0 MB 4.9 MB/s eta 0:00:16\n",
      "   ------------------------- -------------- 131.1/203.0 MB 4.9 MB/s eta 0:00:15\n",
      "   -------------------------- ------------- 132.1/203.0 MB 4.9 MB/s eta 0:00:15\n",
      "   -------------------------- ------------- 133.2/203.0 MB 4.9 MB/s eta 0:00:15\n",
      "   -------------------------- ------------- 134.5/203.0 MB 4.9 MB/s eta 0:00:14\n",
      "   -------------------------- ------------- 135.5/203.0 MB 4.9 MB/s eta 0:00:14\n",
      "   -------------------------- ------------- 136.8/203.0 MB 4.9 MB/s eta 0:00:14\n",
      "   --------------------------- ------------ 137.9/203.0 MB 4.9 MB/s eta 0:00:14\n",
      "   --------------------------- ------------ 139.2/203.0 MB 4.9 MB/s eta 0:00:13\n",
      "   --------------------------- ------------ 140.2/203.0 MB 4.9 MB/s eta 0:00:13\n",
      "   --------------------------- ------------ 141.6/203.0 MB 4.9 MB/s eta 0:00:13\n",
      "   ---------------------------- ----------- 142.3/203.0 MB 4.9 MB/s eta 0:00:13\n",
      "   ---------------------------- ----------- 143.7/203.0 MB 4.9 MB/s eta 0:00:13\n",
      "   ---------------------------- ----------- 144.4/203.0 MB 4.9 MB/s eta 0:00:12\n",
      "   ---------------------------- ----------- 145.8/203.0 MB 4.9 MB/s eta 0:00:12\n",
      "   ---------------------------- ----------- 147.1/203.0 MB 4.9 MB/s eta 0:00:12\n",
      "   ----------------------------- ---------- 148.1/203.0 MB 4.9 MB/s eta 0:00:12\n",
      "   ----------------------------- ---------- 149.4/203.0 MB 4.9 MB/s eta 0:00:11\n",
      "   ----------------------------- ---------- 150.7/203.0 MB 4.9 MB/s eta 0:00:11\n",
      "   ----------------------------- ---------- 151.8/203.0 MB 4.9 MB/s eta 0:00:11\n",
      "   ------------------------------ --------- 153.1/203.0 MB 5.0 MB/s eta 0:00:11\n",
      "   ------------------------------ --------- 153.9/203.0 MB 5.0 MB/s eta 0:00:10\n",
      "   ------------------------------ --------- 154.9/203.0 MB 5.0 MB/s eta 0:00:10\n",
      "   ------------------------------ --------- 156.2/203.0 MB 5.0 MB/s eta 0:00:10\n",
      "   ------------------------------ --------- 157.3/203.0 MB 4.9 MB/s eta 0:00:10\n",
      "   ------------------------------- -------- 158.6/203.0 MB 4.9 MB/s eta 0:00:09\n",
      "   ------------------------------- -------- 159.6/203.0 MB 4.9 MB/s eta 0:00:09\n",
      "   ------------------------------- -------- 160.7/203.0 MB 4.9 MB/s eta 0:00:09\n",
      "   ------------------------------- -------- 161.5/203.0 MB 4.8 MB/s eta 0:00:09\n",
      "   -------------------------------- ------- 162.5/203.0 MB 4.9 MB/s eta 0:00:09\n",
      "   -------------------------------- ------- 163.6/203.0 MB 4.9 MB/s eta 0:00:09\n",
      "   -------------------------------- ------- 164.6/203.0 MB 4.8 MB/s eta 0:00:08\n",
      "   -------------------------------- ------- 165.4/203.0 MB 4.9 MB/s eta 0:00:08\n",
      "   -------------------------------- ------- 166.7/203.0 MB 4.9 MB/s eta 0:00:08\n",
      "   --------------------------------- ------ 167.8/203.0 MB 4.9 MB/s eta 0:00:08\n",
      "   --------------------------------- ------ 169.1/203.0 MB 4.9 MB/s eta 0:00:07\n",
      "   --------------------------------- ------ 169.9/203.0 MB 4.9 MB/s eta 0:00:07\n",
      "   --------------------------------- ------ 171.2/203.0 MB 4.9 MB/s eta 0:00:07\n",
      "   --------------------------------- ------ 172.2/203.0 MB 4.9 MB/s eta 0:00:07\n",
      "   ---------------------------------- ----- 173.5/203.0 MB 4.9 MB/s eta 0:00:06\n",
      "   ---------------------------------- ----- 174.6/203.0 MB 4.9 MB/s eta 0:00:06\n",
      "   ---------------------------------- ----- 175.9/203.0 MB 4.9 MB/s eta 0:00:06\n",
      "   ---------------------------------- ----- 177.2/203.0 MB 5.0 MB/s eta 0:00:06\n",
      "   ----------------------------------- ---- 178.0/203.0 MB 5.0 MB/s eta 0:00:06\n",
      "   ----------------------------------- ---- 178.8/203.0 MB 5.0 MB/s eta 0:00:05\n",
      "   ----------------------------------- ---- 179.6/203.0 MB 5.0 MB/s eta 0:00:05\n",
      "   ----------------------------------- ---- 180.6/203.0 MB 5.0 MB/s eta 0:00:05\n",
      "   ----------------------------------- ---- 181.4/203.0 MB 4.9 MB/s eta 0:00:05\n",
      "   ----------------------------------- ---- 182.5/203.0 MB 5.0 MB/s eta 0:00:05\n",
      "   ------------------------------------ --- 183.2/203.0 MB 5.0 MB/s eta 0:00:04\n",
      "   ------------------------------------ --- 184.3/203.0 MB 5.0 MB/s eta 0:00:04\n",
      "   ------------------------------------ --- 185.3/203.0 MB 5.0 MB/s eta 0:00:04\n",
      "   ------------------------------------ --- 186.1/203.0 MB 5.0 MB/s eta 0:00:04\n",
      "   ------------------------------------ --- 186.9/203.0 MB 5.0 MB/s eta 0:00:04\n",
      "   ------------------------------------- -- 188.0/203.0 MB 5.0 MB/s eta 0:00:04\n",
      "   ------------------------------------- -- 189.0/203.0 MB 5.0 MB/s eta 0:00:03\n",
      "   ------------------------------------- -- 190.1/203.0 MB 5.0 MB/s eta 0:00:03\n",
      "   ------------------------------------- -- 191.1/203.0 MB 5.0 MB/s eta 0:00:03\n",
      "   ------------------------------------- -- 192.2/203.0 MB 5.0 MB/s eta 0:00:03\n",
      "   -------------------------------------- - 193.5/203.0 MB 5.0 MB/s eta 0:00:02\n",
      "   -------------------------------------- - 194.5/203.0 MB 5.0 MB/s eta 0:00:02\n",
      "   -------------------------------------- - 195.6/203.0 MB 5.0 MB/s eta 0:00:02\n",
      "   -------------------------------------- - 196.6/203.0 MB 5.0 MB/s eta 0:00:02\n",
      "   -------------------------------------- - 197.9/203.0 MB 5.0 MB/s eta 0:00:02\n",
      "   ---------------------------------------  199.0/203.0 MB 5.1 MB/s eta 0:00:01\n",
      "   ---------------------------------------  200.0/203.0 MB 5.1 MB/s eta 0:00:01\n",
      "   ---------------------------------------  201.3/203.0 MB 5.1 MB/s eta 0:00:01\n",
      "   ---------------------------------------  202.6/203.0 MB 5.1 MB/s eta 0:00:01\n",
      "   ---------------------------------------  202.9/203.0 MB 5.1 MB/s eta 0:00:01\n",
      "   ---------------------------------------  202.9/203.0 MB 5.1 MB/s eta 0:00:01\n",
      "   ---------------------------------------  202.9/203.0 MB 5.1 MB/s eta 0:00:01\n",
      "   ---------------------------------------- 203.0/203.0 MB 5.0 MB/s eta 0:00:00\n",
      "Downloading sympy-1.13.1-py3-none-any.whl (6.2 MB)\n",
      "   ---------------------------------------- 0.0/6.2 MB ? eta -:--:--\n",
      "   -------- ------------------------------- 1.3/6.2 MB 5.6 MB/s eta 0:00:01\n",
      "   --------------- ------------------------ 2.4/6.2 MB 5.8 MB/s eta 0:00:01\n",
      "   ----------------------- ---------------- 3.7/6.2 MB 6.1 MB/s eta 0:00:01\n",
      "   -------------------------------- ------- 5.0/6.2 MB 6.0 MB/s eta 0:00:01\n",
      "   ------------------------------------- -- 5.8/6.2 MB 5.8 MB/s eta 0:00:01\n",
      "   ---------------------------------------- 6.2/6.2 MB 5.4 MB/s eta 0:00:00\n",
      "Downloading mpmath-1.3.0-py3-none-any.whl (536 kB)\n",
      "   ---------------------------------------- 0.0/536.2 kB ? eta -:--:--\n",
      "   ---------------------------------------- 536.2/536.2 kB 3.5 MB/s eta 0:00:00\n",
      "Installing collected packages: mpmath, sympy, torch, accelerate\n",
      "Successfully installed accelerate-1.3.0 mpmath-1.3.0 sympy-1.13.1 torch-2.5.1\n",
      "Defaulting to user installation because normal site-packages is not writeable\n",
      "Collecting datasets\n",
      "  Downloading datasets-3.2.0-py3-none-any.whl.metadata (20 kB)\n",
      "Requirement already satisfied: filelock in c:\\users\\rajar\\appdata\\roaming\\python\\python312\\site-packages (from datasets) (3.13.1)\n",
      "Requirement already satisfied: numpy>=1.17 in c:\\users\\rajar\\appdata\\roaming\\python\\python312\\site-packages (from datasets) (1.26.2)\n",
      "Requirement already satisfied: pyarrow>=15.0.0 in c:\\users\\rajar\\appdata\\roaming\\python\\python312\\site-packages (from datasets) (18.1.0)\n",
      "Collecting dill<0.3.9,>=0.3.0 (from datasets)\n",
      "  Downloading dill-0.3.8-py3-none-any.whl.metadata (10 kB)\n",
      "Requirement already satisfied: pandas in c:\\users\\rajar\\appdata\\roaming\\python\\python312\\site-packages (from datasets) (2.1.4)\n",
      "Collecting requests>=2.32.2 (from datasets)\n",
      "  Downloading requests-2.32.3-py3-none-any.whl.metadata (4.6 kB)\n",
      "Collecting tqdm>=4.66.3 (from datasets)\n",
      "  Downloading tqdm-4.67.1-py3-none-any.whl.metadata (57 kB)\n",
      "Collecting xxhash (from datasets)\n",
      "  Downloading xxhash-3.5.0-cp312-cp312-win_amd64.whl.metadata (13 kB)\n",
      "Collecting multiprocess<0.70.17 (from datasets)\n",
      "  Downloading multiprocess-0.70.16-py312-none-any.whl.metadata (7.2 kB)\n",
      "Collecting fsspec<=2024.9.0,>=2023.1.0 (from fsspec[http]<=2024.9.0,>=2023.1.0->datasets)\n",
      "  Downloading fsspec-2024.9.0-py3-none-any.whl.metadata (11 kB)\n",
      "Collecting aiohttp (from datasets)\n",
      "  Downloading aiohttp-3.11.11-cp312-cp312-win_amd64.whl.metadata (8.0 kB)\n",
      "Requirement already satisfied: huggingface-hub>=0.23.0 in c:\\users\\rajar\\appdata\\roaming\\python\\python312\\site-packages (from datasets) (0.27.0)\n",
      "Requirement already satisfied: packaging in c:\\users\\rajar\\appdata\\roaming\\python\\python312\\site-packages (from datasets) (23.2)\n",
      "Requirement already satisfied: pyyaml>=5.1 in c:\\users\\rajar\\appdata\\roaming\\python\\python312\\site-packages (from datasets) (6.0.1)\n",
      "Collecting aiohappyeyeballs>=2.3.0 (from aiohttp->datasets)\n",
      "  Downloading aiohappyeyeballs-2.4.4-py3-none-any.whl.metadata (6.1 kB)\n",
      "Collecting aiosignal>=1.1.2 (from aiohttp->datasets)\n",
      "  Downloading aiosignal-1.3.2-py2.py3-none-any.whl.metadata (3.8 kB)\n",
      "Requirement already satisfied: attrs>=17.3.0 in c:\\users\\rajar\\appdata\\roaming\\python\\python312\\site-packages (from aiohttp->datasets) (23.1.0)\n",
      "Collecting frozenlist>=1.1.1 (from aiohttp->datasets)\n",
      "  Downloading frozenlist-1.5.0-cp312-cp312-win_amd64.whl.metadata (14 kB)\n",
      "Collecting multidict<7.0,>=4.5 (from aiohttp->datasets)\n",
      "  Downloading multidict-6.1.0-cp312-cp312-win_amd64.whl.metadata (5.1 kB)\n",
      "Collecting propcache>=0.2.0 (from aiohttp->datasets)\n",
      "  Downloading propcache-0.2.1-cp312-cp312-win_amd64.whl.metadata (9.5 kB)\n",
      "Collecting yarl<2.0,>=1.17.0 (from aiohttp->datasets)\n",
      "  Downloading yarl-1.18.3-cp312-cp312-win_amd64.whl.metadata (71 kB)\n",
      "Requirement already satisfied: typing-extensions>=3.7.4.3 in c:\\users\\rajar\\appdata\\roaming\\python\\python312\\site-packages (from huggingface-hub>=0.23.0->datasets) (4.12.2)\n",
      "Requirement already satisfied: charset-normalizer<4,>=2 in c:\\users\\rajar\\appdata\\roaming\\python\\python312\\site-packages (from requests>=2.32.2->datasets) (3.3.2)\n",
      "Requirement already satisfied: idna<4,>=2.5 in c:\\users\\rajar\\appdata\\roaming\\python\\python312\\site-packages (from requests>=2.32.2->datasets) (3.6)\n",
      "Requirement already satisfied: urllib3<3,>=1.21.1 in c:\\users\\rajar\\appdata\\roaming\\python\\python312\\site-packages (from requests>=2.32.2->datasets) (2.1.0)\n",
      "Requirement already satisfied: certifi>=2017.4.17 in c:\\users\\rajar\\appdata\\roaming\\python\\python312\\site-packages (from requests>=2.32.2->datasets) (2023.11.17)\n",
      "Requirement already satisfied: colorama in c:\\users\\rajar\\appdata\\roaming\\python\\python312\\site-packages (from tqdm>=4.66.3->datasets) (0.4.6)\n",
      "Requirement already satisfied: python-dateutil>=2.8.2 in c:\\users\\rajar\\appdata\\roaming\\python\\python312\\site-packages (from pandas->datasets) (2.8.2)\n",
      "Requirement already satisfied: pytz>=2020.1 in c:\\users\\rajar\\appdata\\roaming\\python\\python312\\site-packages (from pandas->datasets) (2023.3.post1)\n",
      "Requirement already satisfied: tzdata>=2022.1 in c:\\users\\rajar\\appdata\\roaming\\python\\python312\\site-packages (from pandas->datasets) (2023.3)\n",
      "Requirement already satisfied: six>=1.5 in c:\\users\\rajar\\appdata\\roaming\\python\\python312\\site-packages (from python-dateutil>=2.8.2->pandas->datasets) (1.16.0)\n",
      "Downloading datasets-3.2.0-py3-none-any.whl (480 kB)\n",
      "Downloading dill-0.3.8-py3-none-any.whl (116 kB)\n",
      "Downloading fsspec-2024.9.0-py3-none-any.whl (179 kB)\n",
      "Downloading aiohttp-3.11.11-cp312-cp312-win_amd64.whl (437 kB)\n",
      "Downloading multiprocess-0.70.16-py312-none-any.whl (146 kB)\n",
      "Downloading requests-2.32.3-py3-none-any.whl (64 kB)\n",
      "Downloading tqdm-4.67.1-py3-none-any.whl (78 kB)\n",
      "Downloading xxhash-3.5.0-cp312-cp312-win_amd64.whl (30 kB)\n",
      "Downloading aiohappyeyeballs-2.4.4-py3-none-any.whl (14 kB)\n",
      "Downloading aiosignal-1.3.2-py2.py3-none-any.whl (7.6 kB)\n",
      "Downloading frozenlist-1.5.0-cp312-cp312-win_amd64.whl (51 kB)\n",
      "Downloading multidict-6.1.0-cp312-cp312-win_amd64.whl (28 kB)\n",
      "Downloading propcache-0.2.1-cp312-cp312-win_amd64.whl (44 kB)\n",
      "Downloading yarl-1.18.3-cp312-cp312-win_amd64.whl (90 kB)\n",
      "Installing collected packages: xxhash, tqdm, requests, propcache, multidict, fsspec, frozenlist, dill, aiohappyeyeballs, yarl, multiprocess, aiosignal, aiohttp, datasets\n",
      "  Attempting uninstall: tqdm\n",
      "    Found existing installation: tqdm 4.66.2\n",
      "    Uninstalling tqdm-4.66.2:\n",
      "      Successfully uninstalled tqdm-4.66.2\n",
      "  Attempting uninstall: requests\n",
      "    Found existing installation: requests 2.31.0\n",
      "    Uninstalling requests-2.31.0:\n",
      "      Successfully uninstalled requests-2.31.0\n",
      "  Attempting uninstall: fsspec\n",
      "    Found existing installation: fsspec 2024.12.0\n",
      "    Uninstalling fsspec-2024.12.0:\n",
      "      Successfully uninstalled fsspec-2024.12.0\n",
      "Successfully installed aiohappyeyeballs-2.4.4 aiohttp-3.11.11 aiosignal-1.3.2 datasets-3.2.0 dill-0.3.8 frozenlist-1.5.0 fsspec-2024.9.0 multidict-6.1.0 multiprocess-0.70.16 propcache-0.2.1 requests-2.32.3 tqdm-4.67.1 xxhash-3.5.0 yarl-1.18.3\n"
     ]
    },
    {
     "name": "stderr",
     "output_type": "stream",
     "text": [
      "ERROR: pip's dependency resolver does not currently take into account all the packages that are installed. This behaviour is the source of the following dependency conflicts.\n",
      "ydata-profiling 4.12.1 requires matplotlib<3.10,>=3.5, but you have matplotlib 3.10.0 which is incompatible.\n"
     ]
    },
    {
     "name": "stdout",
     "output_type": "stream",
     "text": [
      "Defaulting to user installation because normal site-packages is not writeable\n",
      "Collecting bertviz\n",
      "  Downloading bertviz-1.4.0-py3-none-any.whl.metadata (19 kB)\n",
      "Requirement already satisfied: transformers>=2.0 in c:\\users\\rajar\\appdata\\roaming\\python\\python312\\site-packages (from bertviz) (4.48.1)\n",
      "Requirement already satisfied: torch>=1.0 in c:\\users\\rajar\\appdata\\roaming\\python\\python312\\site-packages (from bertviz) (2.5.1)\n",
      "Requirement already satisfied: tqdm in c:\\users\\rajar\\appdata\\roaming\\python\\python312\\site-packages (from bertviz) (4.67.1)\n",
      "Collecting boto3 (from bertviz)\n",
      "  Downloading boto3-1.36.2-py3-none-any.whl.metadata (6.6 kB)\n",
      "Requirement already satisfied: requests in c:\\users\\rajar\\appdata\\roaming\\python\\python312\\site-packages (from bertviz) (2.32.3)\n",
      "Requirement already satisfied: regex in c:\\users\\rajar\\appdata\\roaming\\python\\python312\\site-packages (from bertviz) (2023.12.25)\n",
      "Collecting sentencepiece (from bertviz)\n",
      "  Downloading sentencepiece-0.2.0-cp312-cp312-win_amd64.whl.metadata (8.3 kB)\n",
      "Requirement already satisfied: filelock in c:\\users\\rajar\\appdata\\roaming\\python\\python312\\site-packages (from torch>=1.0->bertviz) (3.13.1)\n",
      "Requirement already satisfied: typing-extensions>=4.8.0 in c:\\users\\rajar\\appdata\\roaming\\python\\python312\\site-packages (from torch>=1.0->bertviz) (4.12.2)\n",
      "Requirement already satisfied: networkx in c:\\users\\rajar\\appdata\\roaming\\python\\python312\\site-packages (from torch>=1.0->bertviz) (3.4.2)\n",
      "Requirement already satisfied: jinja2 in c:\\users\\rajar\\appdata\\roaming\\python\\python312\\site-packages (from torch>=1.0->bertviz) (3.1.2)\n",
      "Requirement already satisfied: fsspec in c:\\users\\rajar\\appdata\\roaming\\python\\python312\\site-packages (from torch>=1.0->bertviz) (2024.9.0)\n",
      "Requirement already satisfied: setuptools in c:\\users\\rajar\\appdata\\roaming\\python\\python312\\site-packages (from torch>=1.0->bertviz) (69.1.1)\n",
      "Requirement already satisfied: sympy==1.13.1 in c:\\users\\rajar\\appdata\\roaming\\python\\python312\\site-packages (from torch>=1.0->bertviz) (1.13.1)\n",
      "Requirement already satisfied: mpmath<1.4,>=1.1.0 in c:\\users\\rajar\\appdata\\roaming\\python\\python312\\site-packages (from sympy==1.13.1->torch>=1.0->bertviz) (1.3.0)\n",
      "Requirement already satisfied: huggingface-hub<1.0,>=0.24.0 in c:\\users\\rajar\\appdata\\roaming\\python\\python312\\site-packages (from transformers>=2.0->bertviz) (0.27.0)\n",
      "Requirement already satisfied: numpy>=1.17 in c:\\users\\rajar\\appdata\\roaming\\python\\python312\\site-packages (from transformers>=2.0->bertviz) (1.26.2)\n",
      "Requirement already satisfied: packaging>=20.0 in c:\\users\\rajar\\appdata\\roaming\\python\\python312\\site-packages (from transformers>=2.0->bertviz) (23.2)\n",
      "Requirement already satisfied: pyyaml>=5.1 in c:\\users\\rajar\\appdata\\roaming\\python\\python312\\site-packages (from transformers>=2.0->bertviz) (6.0.1)\n",
      "Requirement already satisfied: tokenizers<0.22,>=0.21 in c:\\users\\rajar\\appdata\\roaming\\python\\python312\\site-packages (from transformers>=2.0->bertviz) (0.21.0)\n",
      "Requirement already satisfied: safetensors>=0.4.1 in c:\\users\\rajar\\appdata\\roaming\\python\\python312\\site-packages (from transformers>=2.0->bertviz) (0.4.5)\n",
      "Requirement already satisfied: colorama in c:\\users\\rajar\\appdata\\roaming\\python\\python312\\site-packages (from tqdm->bertviz) (0.4.6)\n",
      "Collecting botocore<1.37.0,>=1.36.2 (from boto3->bertviz)\n",
      "  Downloading botocore-1.36.2-py3-none-any.whl.metadata (5.7 kB)\n",
      "Collecting jmespath<2.0.0,>=0.7.1 (from boto3->bertviz)\n",
      "  Downloading jmespath-1.0.1-py3-none-any.whl.metadata (7.6 kB)\n",
      "Collecting s3transfer<0.12.0,>=0.11.0 (from boto3->bertviz)\n",
      "  Downloading s3transfer-0.11.1-py3-none-any.whl.metadata (1.7 kB)\n",
      "Requirement already satisfied: charset-normalizer<4,>=2 in c:\\users\\rajar\\appdata\\roaming\\python\\python312\\site-packages (from requests->bertviz) (3.3.2)\n",
      "Requirement already satisfied: idna<4,>=2.5 in c:\\users\\rajar\\appdata\\roaming\\python\\python312\\site-packages (from requests->bertviz) (3.6)\n",
      "Requirement already satisfied: urllib3<3,>=1.21.1 in c:\\users\\rajar\\appdata\\roaming\\python\\python312\\site-packages (from requests->bertviz) (2.1.0)\n",
      "Requirement already satisfied: certifi>=2017.4.17 in c:\\users\\rajar\\appdata\\roaming\\python\\python312\\site-packages (from requests->bertviz) (2023.11.17)\n",
      "Requirement already satisfied: python-dateutil<3.0.0,>=2.1 in c:\\users\\rajar\\appdata\\roaming\\python\\python312\\site-packages (from botocore<1.37.0,>=1.36.2->boto3->bertviz) (2.8.2)\n",
      "Requirement already satisfied: MarkupSafe>=2.0 in c:\\users\\rajar\\appdata\\roaming\\python\\python312\\site-packages (from jinja2->torch>=1.0->bertviz) (2.1.3)\n",
      "Requirement already satisfied: six>=1.5 in c:\\users\\rajar\\appdata\\roaming\\python\\python312\\site-packages (from python-dateutil<3.0.0,>=2.1->botocore<1.37.0,>=1.36.2->boto3->bertviz) (1.16.0)\n",
      "Downloading bertviz-1.4.0-py3-none-any.whl (157 kB)\n",
      "Downloading boto3-1.36.2-py3-none-any.whl (139 kB)\n",
      "Downloading sentencepiece-0.2.0-cp312-cp312-win_amd64.whl (991 kB)\n",
      "   ---------------------------------------- 0.0/992.0 kB ? eta -:--:--\n",
      "   ------------------------------- -------- 786.4/992.0 kB 4.2 MB/s eta 0:00:01\n",
      "   ---------------------------------------- 992.0/992.0 kB 3.6 MB/s eta 0:00:00\n",
      "Downloading botocore-1.36.2-py3-none-any.whl (13.3 MB)\n",
      "   ---------------------------------------- 0.0/13.3 MB ? eta -:--:--\n",
      "   - -------------------------------------- 0.5/13.3 MB 2.4 MB/s eta 0:00:06\n",
      "   -- ------------------------------------- 0.8/13.3 MB 2.1 MB/s eta 0:00:06\n",
      "   --- ------------------------------------ 1.3/13.3 MB 2.0 MB/s eta 0:00:06\n",
      "   ---- ----------------------------------- 1.6/13.3 MB 1.8 MB/s eta 0:00:07\n",
      "   ---- ----------------------------------- 1.6/13.3 MB 1.8 MB/s eta 0:00:07\n",
      "   ----- ---------------------------------- 1.8/13.3 MB 1.5 MB/s eta 0:00:08\n",
      "   ------ --------------------------------- 2.1/13.3 MB 1.5 MB/s eta 0:00:08\n",
      "   ------ --------------------------------- 2.1/13.3 MB 1.5 MB/s eta 0:00:08\n",
      "   ------- -------------------------------- 2.4/13.3 MB 1.3 MB/s eta 0:00:09\n",
      "   ------- -------------------------------- 2.6/13.3 MB 1.2 MB/s eta 0:00:09\n",
      "   ------- -------------------------------- 2.6/13.3 MB 1.2 MB/s eta 0:00:09\n",
      "   -------- ------------------------------- 2.9/13.3 MB 1.1 MB/s eta 0:00:10\n",
      "   --------- ------------------------------ 3.1/13.3 MB 1.1 MB/s eta 0:00:10\n",
      "   --------- ------------------------------ 3.1/13.3 MB 1.1 MB/s eta 0:00:10\n",
      "   ---------- ----------------------------- 3.4/13.3 MB 1.1 MB/s eta 0:00:10\n",
      "   ----------- ---------------------------- 3.7/13.3 MB 1.1 MB/s eta 0:00:09\n",
      "   ----------- ---------------------------- 3.9/13.3 MB 1.1 MB/s eta 0:00:09\n",
      "   ------------ --------------------------- 4.2/13.3 MB 1.1 MB/s eta 0:00:09\n",
      "   ------------ --------------------------- 4.2/13.3 MB 1.1 MB/s eta 0:00:09\n",
      "   ------------- -------------------------- 4.5/13.3 MB 1.1 MB/s eta 0:00:09\n",
      "   ------------- -------------------------- 4.5/13.3 MB 1.1 MB/s eta 0:00:09\n",
      "   -------------- ------------------------- 4.7/13.3 MB 1.0 MB/s eta 0:00:09\n",
      "   -------------- ------------------------- 5.0/13.3 MB 1.0 MB/s eta 0:00:09\n",
      "   -------------- ------------------------- 5.0/13.3 MB 1.0 MB/s eta 0:00:09\n",
      "   --------------- ------------------------ 5.2/13.3 MB 1.0 MB/s eta 0:00:08\n",
      "   ---------------- ----------------------- 5.5/13.3 MB 1.0 MB/s eta 0:00:08\n",
      "   ---------------- ----------------------- 5.5/13.3 MB 1.0 MB/s eta 0:00:08\n",
      "   ----------------- ---------------------- 5.8/13.3 MB 984.1 kB/s eta 0:00:08\n",
      "   ----------------- ---------------------- 5.8/13.3 MB 984.1 kB/s eta 0:00:08\n",
      "   ------------------ --------------------- 6.0/13.3 MB 958.6 kB/s eta 0:00:08\n",
      "   ------------------ --------------------- 6.3/13.3 MB 969.5 kB/s eta 0:00:08\n",
      "   -------------------- ------------------- 6.8/13.3 MB 993.9 kB/s eta 0:00:07\n",
      "   --------------------- ------------------ 7.1/13.3 MB 1.0 MB/s eta 0:00:07\n",
      "   ---------------------- ----------------- 7.3/13.3 MB 1.0 MB/s eta 0:00:06\n",
      "   ---------------------- ----------------- 7.6/13.3 MB 1.0 MB/s eta 0:00:06\n",
      "   ---------------------- ----------------- 7.6/13.3 MB 1.0 MB/s eta 0:00:06\n",
      "   ----------------------- ---------------- 7.9/13.3 MB 1.0 MB/s eta 0:00:06\n",
      "   ------------------------ --------------- 8.1/13.3 MB 1.0 MB/s eta 0:00:06\n",
      "   ------------------------- -------------- 8.4/13.3 MB 1.0 MB/s eta 0:00:05\n",
      "   -------------------------- ------------- 8.7/13.3 MB 1.0 MB/s eta 0:00:05\n",
      "   -------------------------- ------------- 8.7/13.3 MB 1.0 MB/s eta 0:00:05\n",
      "   -------------------------- ------------- 8.9/13.3 MB 1.0 MB/s eta 0:00:05\n",
      "   -------------------------- ------------- 8.9/13.3 MB 1.0 MB/s eta 0:00:05\n",
      "   --------------------------- ------------ 9.2/13.3 MB 999.0 kB/s eta 0:00:05\n",
      "   --------------------------- ------------ 9.2/13.3 MB 999.0 kB/s eta 0:00:05\n",
      "   --------------------------- ------------ 9.2/13.3 MB 999.0 kB/s eta 0:00:05\n",
      "   ---------------------------- ----------- 9.4/13.3 MB 953.2 kB/s eta 0:00:05\n",
      "   ---------------------------- ----------- 9.4/13.3 MB 953.2 kB/s eta 0:00:05\n",
      "   ----------------------------- ---------- 9.7/13.3 MB 933.5 kB/s eta 0:00:04\n",
      "   ----------------------------- ---------- 9.7/13.3 MB 933.5 kB/s eta 0:00:04\n",
      "   ----------------------------- ---------- 10.0/13.3 MB 923.7 kB/s eta 0:00:04\n",
      "   ----------------------------- ---------- 10.0/13.3 MB 923.7 kB/s eta 0:00:04\n",
      "   ------------------------------ --------- 10.2/13.3 MB 926.6 kB/s eta 0:00:04\n",
      "   ------------------------------- -------- 10.5/13.3 MB 929.4 kB/s eta 0:00:04\n",
      "   -------------------------------- ------- 10.7/13.3 MB 933.4 kB/s eta 0:00:03\n",
      "   --------------------------------- ------ 11.0/13.3 MB 937.1 kB/s eta 0:00:03\n",
      "   --------------------------------- ------ 11.3/13.3 MB 939.5 kB/s eta 0:00:03\n",
      "   --------------------------------- ------ 11.3/13.3 MB 939.5 kB/s eta 0:00:03\n",
      "   ---------------------------------- ----- 11.5/13.3 MB 939.3 kB/s eta 0:00:02\n",
      "   ----------------------------------- ---- 11.8/13.3 MB 938.0 kB/s eta 0:00:02\n",
      "   ------------------------------------ --- 12.1/13.3 MB 940.2 kB/s eta 0:00:02\n",
      "   ------------------------------------- -- 12.3/13.3 MB 947.0 kB/s eta 0:00:02\n",
      "   ------------------------------------- -- 12.6/13.3 MB 953.5 kB/s eta 0:00:01\n",
      "   -------------------------------------- - 12.8/13.3 MB 957.5 kB/s eta 0:00:01\n",
      "   -------------------------------------- - 12.8/13.3 MB 957.5 kB/s eta 0:00:01\n",
      "   ---------------------------------------  13.1/13.3 MB 951.5 kB/s eta 0:00:01\n",
      "   ---------------------------------------- 13.3/13.3 MB 946.2 kB/s eta 0:00:00\n",
      "Downloading jmespath-1.0.1-py3-none-any.whl (20 kB)\n",
      "Downloading s3transfer-0.11.1-py3-none-any.whl (84 kB)\n",
      "Installing collected packages: sentencepiece, jmespath, botocore, s3transfer, boto3, bertviz\n",
      "Successfully installed bertviz-1.4.0 boto3-1.36.2 botocore-1.36.2 jmespath-1.0.1 s3transfer-0.11.1 sentencepiece-0.2.0\n",
      "Defaulting to user installation because normal site-packages is not writeable\n",
      "Collecting umap-learn\n",
      "  Downloading umap_learn-0.5.7-py3-none-any.whl.metadata (21 kB)\n",
      "Requirement already satisfied: numpy>=1.17 in c:\\users\\rajar\\appdata\\roaming\\python\\python312\\site-packages (from umap-learn) (1.26.2)\n",
      "Requirement already satisfied: scipy>=1.3.1 in c:\\users\\rajar\\appdata\\roaming\\python\\python312\\site-packages (from umap-learn) (1.12.0)\n",
      "Requirement already satisfied: scikit-learn>=0.22 in c:\\users\\rajar\\appdata\\roaming\\python\\python312\\site-packages (from umap-learn) (1.4.1.post1)\n",
      "Requirement already satisfied: numba>=0.51.2 in c:\\users\\rajar\\appdata\\roaming\\python\\python312\\site-packages (from umap-learn) (0.60.0)\n",
      "Collecting pynndescent>=0.5 (from umap-learn)\n",
      "  Downloading pynndescent-0.5.13-py3-none-any.whl.metadata (6.8 kB)\n",
      "Requirement already satisfied: tqdm in c:\\users\\rajar\\appdata\\roaming\\python\\python312\\site-packages (from umap-learn) (4.67.1)\n",
      "Requirement already satisfied: llvmlite<0.44,>=0.43.0dev0 in c:\\users\\rajar\\appdata\\roaming\\python\\python312\\site-packages (from numba>=0.51.2->umap-learn) (0.43.0)\n",
      "Requirement already satisfied: joblib>=0.11 in c:\\users\\rajar\\appdata\\roaming\\python\\python312\\site-packages (from pynndescent>=0.5->umap-learn) (1.3.2)\n",
      "Requirement already satisfied: threadpoolctl>=2.0.0 in c:\\users\\rajar\\appdata\\roaming\\python\\python312\\site-packages (from scikit-learn>=0.22->umap-learn) (3.3.0)\n",
      "Requirement already satisfied: colorama in c:\\users\\rajar\\appdata\\roaming\\python\\python312\\site-packages (from tqdm->umap-learn) (0.4.6)\n",
      "Downloading umap_learn-0.5.7-py3-none-any.whl (88 kB)\n",
      "Downloading pynndescent-0.5.13-py3-none-any.whl (56 kB)\n",
      "Installing collected packages: pynndescent, umap-learn\n",
      "Successfully installed pynndescent-0.5.13 umap-learn-0.5.7\n",
      "Defaulting to user installation because normal site-packages is not writeable\n",
      "Requirement already satisfied: seaborn in c:\\users\\rajar\\appdata\\roaming\\python\\python312\\site-packages (0.13.2)\n",
      "Requirement already satisfied: numpy!=1.24.0,>=1.20 in c:\\users\\rajar\\appdata\\roaming\\python\\python312\\site-packages (from seaborn) (1.26.2)\n",
      "Requirement already satisfied: pandas>=1.2 in c:\\users\\rajar\\appdata\\roaming\\python\\python312\\site-packages (from seaborn) (2.1.4)\n",
      "Requirement already satisfied: matplotlib!=3.6.1,>=3.4 in c:\\users\\rajar\\appdata\\roaming\\python\\python312\\site-packages (from seaborn) (3.10.0)\n",
      "Requirement already satisfied: contourpy>=1.0.1 in c:\\users\\rajar\\appdata\\roaming\\python\\python312\\site-packages (from matplotlib!=3.6.1,>=3.4->seaborn) (1.2.0)\n",
      "Requirement already satisfied: cycler>=0.10 in c:\\users\\rajar\\appdata\\roaming\\python\\python312\\site-packages (from matplotlib!=3.6.1,>=3.4->seaborn) (0.12.1)\n",
      "Requirement already satisfied: fonttools>=4.22.0 in c:\\users\\rajar\\appdata\\roaming\\python\\python312\\site-packages (from matplotlib!=3.6.1,>=3.4->seaborn) (4.46.0)\n",
      "Requirement already satisfied: kiwisolver>=1.3.1 in c:\\users\\rajar\\appdata\\roaming\\python\\python312\\site-packages (from matplotlib!=3.6.1,>=3.4->seaborn) (1.4.5)\n",
      "Requirement already satisfied: packaging>=20.0 in c:\\users\\rajar\\appdata\\roaming\\python\\python312\\site-packages (from matplotlib!=3.6.1,>=3.4->seaborn) (23.2)\n",
      "Requirement already satisfied: pillow>=8 in c:\\users\\rajar\\appdata\\roaming\\python\\python312\\site-packages (from matplotlib!=3.6.1,>=3.4->seaborn) (10.1.0)\n",
      "Requirement already satisfied: pyparsing>=2.3.1 in c:\\users\\rajar\\appdata\\roaming\\python\\python312\\site-packages (from matplotlib!=3.6.1,>=3.4->seaborn) (3.1.1)\n",
      "Requirement already satisfied: python-dateutil>=2.7 in c:\\users\\rajar\\appdata\\roaming\\python\\python312\\site-packages (from matplotlib!=3.6.1,>=3.4->seaborn) (2.8.2)\n",
      "Requirement already satisfied: pytz>=2020.1 in c:\\users\\rajar\\appdata\\roaming\\python\\python312\\site-packages (from pandas>=1.2->seaborn) (2023.3.post1)\n",
      "Requirement already satisfied: tzdata>=2022.1 in c:\\users\\rajar\\appdata\\roaming\\python\\python312\\site-packages (from pandas>=1.2->seaborn) (2023.3)\n",
      "Requirement already satisfied: six>=1.5 in c:\\users\\rajar\\appdata\\roaming\\python\\python312\\site-packages (from python-dateutil>=2.7->matplotlib!=3.6.1,>=3.4->seaborn) (1.16.0)\n"
     ]
    }
   ],
   "source": [
    "!pip install -U transformers\n",
    "!pip install -U accelerate\n",
    "!pip install -U datasets\n",
    "!pip install -U bertviz\n",
    "!pip install -U umap-learn\n",
    "!pip install seaborn --upgrade"
   ]
  },
  {
   "cell_type": "code",
   "execution_count": 2,
   "metadata": {
    "id": "PVy59X5jtHa-"
   },
   "outputs": [],
   "source": [
    "import pandas as pd\n",
    "df = pd.read_csv(\"IMDB Dataset.csv\")"
   ]
  },
  {
   "cell_type": "code",
   "execution_count": 3,
   "metadata": {
    "colab": {
     "base_uri": "https://localhost:8080/",
     "height": 337
    },
    "id": "SCFDRIeWupbx",
    "outputId": "6ea57fb7-f378-49cb-af34-2f0832108632"
   },
   "outputs": [
    {
     "name": "stdout",
     "output_type": "stream",
     "text": [
      "<class 'pandas.core.frame.DataFrame'>\n",
      "RangeIndex: 50000 entries, 0 to 49999\n",
      "Data columns (total 2 columns):\n",
      " #   Column     Non-Null Count  Dtype \n",
      "---  ------     --------------  ----- \n",
      " 0   review     50000 non-null  object\n",
      " 1   sentiment  50000 non-null  object\n",
      "dtypes: object(2)\n",
      "memory usage: 781.4+ KB\n"
     ]
    },
    {
     "data": {
      "text/plain": [
       "review       0\n",
       "sentiment    0\n",
       "dtype: int64"
      ]
     },
     "execution_count": 3,
     "metadata": {},
     "output_type": "execute_result"
    }
   ],
   "source": [
    "df.info()\n",
    "df.isnull().sum()"
   ]
  },
  {
   "cell_type": "code",
   "execution_count": 4,
   "metadata": {
    "colab": {
     "base_uri": "https://localhost:8080/",
     "height": 294
    },
    "id": "5-xldYPqu4cT",
    "outputId": "d70a6ac1-db25-4867-de2f-e91e27765e8a"
   },
   "outputs": [
    {
     "ename": "KeyError",
     "evalue": "'label'",
     "output_type": "error",
     "traceback": [
      "\u001b[1;31m---------------------------------------------------------------------------\u001b[0m",
      "\u001b[1;31mKeyError\u001b[0m                                  Traceback (most recent call last)",
      "File \u001b[1;32m~\\anaconda3\\Lib\\site-packages\\pandas\\core\\indexes\\base.py:3791\u001b[0m, in \u001b[0;36mIndex.get_loc\u001b[1;34m(self, key)\u001b[0m\n\u001b[0;32m   3790\u001b[0m \u001b[38;5;28;01mtry\u001b[39;00m:\n\u001b[1;32m-> 3791\u001b[0m     \u001b[38;5;28;01mreturn\u001b[39;00m \u001b[38;5;28mself\u001b[39m\u001b[38;5;241m.\u001b[39m_engine\u001b[38;5;241m.\u001b[39mget_loc(casted_key)\n\u001b[0;32m   3792\u001b[0m \u001b[38;5;28;01mexcept\u001b[39;00m \u001b[38;5;167;01mKeyError\u001b[39;00m \u001b[38;5;28;01mas\u001b[39;00m err:\n",
      "File \u001b[1;32mindex.pyx:152\u001b[0m, in \u001b[0;36mpandas._libs.index.IndexEngine.get_loc\u001b[1;34m()\u001b[0m\n",
      "File \u001b[1;32mindex.pyx:181\u001b[0m, in \u001b[0;36mpandas._libs.index.IndexEngine.get_loc\u001b[1;34m()\u001b[0m\n",
      "File \u001b[1;32mpandas\\_libs\\hashtable_class_helper.pxi:7080\u001b[0m, in \u001b[0;36mpandas._libs.hashtable.PyObjectHashTable.get_item\u001b[1;34m()\u001b[0m\n",
      "File \u001b[1;32mpandas\\_libs\\hashtable_class_helper.pxi:7088\u001b[0m, in \u001b[0;36mpandas._libs.hashtable.PyObjectHashTable.get_item\u001b[1;34m()\u001b[0m\n",
      "\u001b[1;31mKeyError\u001b[0m: 'label'",
      "\nThe above exception was the direct cause of the following exception:\n",
      "\u001b[1;31mKeyError\u001b[0m                                  Traceback (most recent call last)",
      "Cell \u001b[1;32mIn[4], line 1\u001b[0m\n\u001b[1;32m----> 1\u001b[0m df[\u001b[38;5;124m'\u001b[39m\u001b[38;5;124mlabel\u001b[39m\u001b[38;5;124m'\u001b[39m]\u001b[38;5;241m.\u001b[39mvalue_counts()\n",
      "File \u001b[1;32m~\\anaconda3\\Lib\\site-packages\\pandas\\core\\frame.py:3893\u001b[0m, in \u001b[0;36mDataFrame.__getitem__\u001b[1;34m(self, key)\u001b[0m\n\u001b[0;32m   3891\u001b[0m \u001b[38;5;28;01mif\u001b[39;00m \u001b[38;5;28mself\u001b[39m\u001b[38;5;241m.\u001b[39mcolumns\u001b[38;5;241m.\u001b[39mnlevels \u001b[38;5;241m>\u001b[39m \u001b[38;5;241m1\u001b[39m:\n\u001b[0;32m   3892\u001b[0m     \u001b[38;5;28;01mreturn\u001b[39;00m \u001b[38;5;28mself\u001b[39m\u001b[38;5;241m.\u001b[39m_getitem_multilevel(key)\n\u001b[1;32m-> 3893\u001b[0m indexer \u001b[38;5;241m=\u001b[39m \u001b[38;5;28mself\u001b[39m\u001b[38;5;241m.\u001b[39mcolumns\u001b[38;5;241m.\u001b[39mget_loc(key)\n\u001b[0;32m   3894\u001b[0m \u001b[38;5;28;01mif\u001b[39;00m is_integer(indexer):\n\u001b[0;32m   3895\u001b[0m     indexer \u001b[38;5;241m=\u001b[39m [indexer]\n",
      "File \u001b[1;32m~\\anaconda3\\Lib\\site-packages\\pandas\\core\\indexes\\base.py:3798\u001b[0m, in \u001b[0;36mIndex.get_loc\u001b[1;34m(self, key)\u001b[0m\n\u001b[0;32m   3793\u001b[0m     \u001b[38;5;28;01mif\u001b[39;00m \u001b[38;5;28misinstance\u001b[39m(casted_key, \u001b[38;5;28mslice\u001b[39m) \u001b[38;5;129;01mor\u001b[39;00m (\n\u001b[0;32m   3794\u001b[0m         \u001b[38;5;28misinstance\u001b[39m(casted_key, abc\u001b[38;5;241m.\u001b[39mIterable)\n\u001b[0;32m   3795\u001b[0m         \u001b[38;5;129;01mand\u001b[39;00m \u001b[38;5;28many\u001b[39m(\u001b[38;5;28misinstance\u001b[39m(x, \u001b[38;5;28mslice\u001b[39m) \u001b[38;5;28;01mfor\u001b[39;00m x \u001b[38;5;129;01min\u001b[39;00m casted_key)\n\u001b[0;32m   3796\u001b[0m     ):\n\u001b[0;32m   3797\u001b[0m         \u001b[38;5;28;01mraise\u001b[39;00m InvalidIndexError(key)\n\u001b[1;32m-> 3798\u001b[0m     \u001b[38;5;28;01mraise\u001b[39;00m \u001b[38;5;167;01mKeyError\u001b[39;00m(key) \u001b[38;5;28;01mfrom\u001b[39;00m \u001b[38;5;21;01merr\u001b[39;00m\n\u001b[0;32m   3799\u001b[0m \u001b[38;5;28;01mexcept\u001b[39;00m \u001b[38;5;167;01mTypeError\u001b[39;00m:\n\u001b[0;32m   3800\u001b[0m     \u001b[38;5;66;03m# If we have a listlike key, _check_indexing_error will raise\u001b[39;00m\n\u001b[0;32m   3801\u001b[0m     \u001b[38;5;66;03m#  InvalidIndexError. Otherwise we fall through and re-raise\u001b[39;00m\n\u001b[0;32m   3802\u001b[0m     \u001b[38;5;66;03m#  the TypeError.\u001b[39;00m\n\u001b[0;32m   3803\u001b[0m     \u001b[38;5;28mself\u001b[39m\u001b[38;5;241m.\u001b[39m_check_indexing_error(key)\n",
      "\u001b[1;31mKeyError\u001b[0m: 'label'"
     ]
    }
   ],
   "source": [
    "df['label'].value_counts()"
   ]
  },
  {
   "cell_type": "markdown",
   "metadata": {
    "id": "WlYD7YDzqdr4"
   },
   "source": []
  },
  {
   "cell_type": "markdown",
   "metadata": {
    "id": "z1SU4sNsqdoz"
   },
   "source": []
  },
  {
   "cell_type": "markdown",
   "metadata": {
    "id": "4Z41GuVnv5e_"
   },
   "source": [
    "::# Dataset Analysis"
   ]
  },
  {
   "cell_type": "code",
   "execution_count": null,
   "metadata": {
    "id": "suTIhPEqvMyi"
   },
   "outputs": [],
   "source": [
    "import matplotlib.pyplot as plt\n",
    "import seaborn as sns"
   ]
  },
  {
   "cell_type": "code",
   "execution_count": null,
   "metadata": {
    "colab": {
     "base_uri": "https://localhost:8080/",
     "height": 451
    },
    "id": "XudiPuWZwMlH",
    "outputId": "9751fbf1-3c46-402c-80a0-db498eef1da3"
   },
   "outputs": [
    {
     "data": {
      "image/png": "[encoded data removed]",
      "text/plain": [
       "<Figure size 640x480 with 1 Axes>"
      ]
     },
     "metadata": {},
     "output_type": "display_data"
    }
   ],
   "source": [
    "label_counts = df['label_name'].value_counts(ascending=True)\n",
    "label_counts.plot.barh()\n",
    "plt.title(\"Frequency of Classes\")\n",
    "plt.show()"
   ]
  },
  {
   "cell_type": "code",
   "execution_count": null,
   "metadata": {
    "colab": {
     "base_uri": "https://localhost:8080/",
     "height": 494
    },
    "id": "GrHyoIz8wkPT",
    "outputId": "ba636bf4-2d17-4120-ee19-ab5a8774337f"
   },
   "outputs": [
    {
     "data": {
      "text/plain": [
       "<Axes: title={'center': 'Words per Tweet'}, xlabel='label_name'>"
      ]
     },
     "execution_count": 7,
     "metadata": {},
     "output_type": "execute_result"
    },
    {
     "data": {
      "image/png": "[encoded data removed]",
      "text/plain": [
       "<Figure size 640x480 with 1 Axes>"
      ]
     },
     "metadata": {},
     "output_type": "display_data"
    }
   ],
   "source": [
    "df['Words per Tweet'] = df['text'].str.split().apply(len)\n",
    "df.boxplot(\"Words per Tweet\", by=\"label_name\")"
   ]
  },
  {
   "cell_type": "markdown",
   "metadata": {
    "id": "uOgNKih5yNVe"
   },
   "source": [
    "#Text to Token Conversion"
   ]
  },
  {
   "cell_type": "code",
   "execution_count": null,
   "metadata": {
    "id": "PuhcCz5Jx31X"
   },
   "outputs": [],
   "source": [
    "from transformers import AutoTokenizer"
   ]
  },
  {
   "cell_type": "code",
   "execution_count": null,
   "metadata": {
    "colab": {
     "base_uri": "https://localhost:8080/",
     "height": 181,
     "referenced_widgets": [
      "e9a9f88bfde84c8fb460c63e20425424",
      "2776094b7fb14b38adf6cf0d2bbcb5dd",
      "22147838cf784301a9c2f9b2dd8548d4",
      "25b96118fe6e4a1ea93d438ea5b7ec40",
      "e5bca2524d7849ef9aa242350079a6c6",
      "2314b8cee7f24fc4852182a5be34b464",
      "4f8cc32b0cf84256b6eabe0efbbd3b9f",
      "41d71cde66064ec1a2dd3f0b4aa20220",
      "505c10d2720c47e080f3fbdfd752e5ea",
      "761f9c31586b4476be938ea3fa864a17",
      "6705d6220db042b5aedba9494cb86266",
      "6b903f282b3f4ce7bbd41009034bfde6",
      "31c96a8fa8a74766b6ecc3fc4f9a42e7",
      "74349050c56348cabaec7189b3bfe398",
      "82d0c44a98bb4f3899d0c65454a69df7",
      "0ae54044086341e588d9a927f87fe28e",
      "3acb7fdc843941169f16f9a5826dd070",
      "32681cdde18b46dea960867e8d94a1ed",
      "6a8cb20639204385a4068c7a33b6842d",
      "edc0fe2781b2447489a8e231a862ddb9",
      "b804bd1e995e4632b7a6fb03eeb6499d",
      "66cf09b830ed4831a3664ba3666b8f1a",
      "43487346748e4a17b26320bf076c1fa9",
      "231ea2d69d164aa58e4f102e24e40b2b",
      "bc6ca7392e484bd0b550b7b89ace66d1",
      "de9b15d677274025b51b596b29f3e757",
      "ff17d6df4edb40028aec71211e6a862a",
      "fc563b4b52164f0c9f7867ee14846e9c",
      "4b280d2065c2404aaaf365d4113f96bb",
      "8ef44d33064a4514920589deb10e893e",
      "273a9500594d475f80f09c5148fcfa56",
      "6260218fcb23496c8c2533cfab9c07a1",
      "76c4e93bb31b484b9514fb6469832f0d",
      "ebfaa1ccd0a54a4ba4f6701c6cb44f25",
      "ef078f34e96442f0bdc29cad08966443",
      "83469ba5e3734a19b589c0ad6fcb72aa",
      "7ff4fcaad235409a9bbad26829c5ab18",
      "c9c44be9e5804bfcb151e6de41b4ab2a",
      "746f5f1154684d42a58f3a45c14d655f",
      "ef50d67c6af94c79bbaa4774257d08f7",
      "8ce2ddc0e3094bfaa8fd6f3f41b88023",
      "d60c6957f8f745af8ea3436847e01d0c",
      "a745c9338c0644a2b28b128766e41b49",
      "624654349cc84e7caef6ea036bb28b5c"
     ]
    },
    "id": "-7kfj9uByUgv",
    "outputId": "cd664e3e-3f38-47a3-acff-11f3dadd25f6"
   },
   "outputs": [
    {
     "data": {
      "application/vnd.jupyter.widget-view+json": {
       "model_id": "e9a9f88bfde84c8fb460c63e20425424",
       "version_major": 2,
       "version_minor": 0
      },
      "text/plain": [
       "tokenizer_config.json:   0%|          | 0.00/48.0 [00:00<?, ?B/s]"
      ]
     },
     "metadata": {},
     "output_type": "display_data"
    },
    {
     "data": {
      "application/vnd.jupyter.widget-view+json": {
       "model_id": "6b903f282b3f4ce7bbd41009034bfde6",
       "version_major": 2,
       "version_minor": 0
      },
      "text/plain": [
       "config.json:   0%|          | 0.00/570 [00:00<?, ?B/s]"
      ]
     },
     "metadata": {},
     "output_type": "display_data"
    },
    {
     "data": {
      "application/vnd.jupyter.widget-view+json": {
       "model_id": "43487346748e4a17b26320bf076c1fa9",
       "version_major": 2,
       "version_minor": 0
      },
      "text/plain": [
       "vocab.txt:   0%|          | 0.00/232k [00:00<?, ?B/s]"
      ]
     },
     "metadata": {},
     "output_type": "display_data"
    },
    {
     "data": {
      "application/vnd.jupyter.widget-view+json": {
       "model_id": "ebfaa1ccd0a54a4ba4f6701c6cb44f25",
       "version_major": 2,
       "version_minor": 0
      },
      "text/plain": [
       "tokenizer.json:   0%|          | 0.00/466k [00:00<?, ?B/s]"
      ]
     },
     "metadata": {},
     "output_type": "display_data"
    },
    {
     "name": "stdout",
     "output_type": "stream",
     "text": [
      "{'input_ids': [101, 2057, 2293, 2000, 3637, 999, 12214, 2024, 12476, 999, 102], 'token_type_ids': [0, 0, 0, 0, 0, 0, 0, 0, 0, 0, 0], 'attention_mask': [1, 1, 1, 1, 1, 1, 1, 1, 1, 1, 1]}\n"
     ]
    }
   ],
   "source": [
    "model_ckpt = \"bert-base-uncased\"  #ENGLISH english\n",
    "tokenizer = AutoTokenizer.from_pretrained(model_ckpt)\n",
    "\n",
    "text = \"We love to sleep! Winters are awesome!\"\n",
    "encoded_text = tokenizer(text)\n",
    "print(encoded_text)"
   ]
  },
  {
   "cell_type": "code",
   "execution_count": null,
   "metadata": {
    "colab": {
     "base_uri": "https://localhost:8080/"
    },
    "id": "85b-m_oMyetI",
    "outputId": "78e17ede-d5bc-49f6-c4b7-64b7efd25470"
   },
   "outputs": [
    {
     "data": {
      "text/plain": [
       "(30522, 30522, 512)"
      ]
     },
     "execution_count": 27,
     "metadata": {},
     "output_type": "execute_result"
    }
   ],
   "source": [
    "len(tokenizer.vocab),tokenizer.vocab_size, tokenizer.model_max_length"
   ]
  },
  {
   "cell_type": "markdown",
   "metadata": {
    "id": "_l2St9Yfz5Ou"
   },
   "source": [
    "# Data Loader and Train Test Split"
   ]
  },
  {
   "cell_type": "code",
   "execution_count": null,
   "metadata": {
    "colab": {
     "base_uri": "https://localhost:8080/"
    },
    "id": "AXABQdTvz8vn",
    "outputId": "e4410426-1615-4813-c393-186d027e0eae"
   },
   "outputs": [
    {
     "data": {
      "text/plain": [
       "((11200, 4), (3200, 4), (1600, 4))"
      ]
     },
     "execution_count": 28,
     "metadata": {},
     "output_type": "execute_result"
    }
   ],
   "source": [
    "\n",
    "from sklearn.model_selection import train_test_split\n",
    "\n",
    "train, test = train_test_split(df, test_size=0.3, stratify=df['label_name'])\n",
    "test, validation = train_test_split(test, test_size=1/3, stratify=test['label_name'])\n",
    "train.shape, test.shape, validation.shape"
   ]
  },
  {
   "cell_type": "code",
   "execution_count": null,
   "metadata": {
    "id": "AdtZWxSozhvw"
   },
   "outputs": [],
   "source": [
    "from datasets import Dataset, DatasetDict\n",
    "\n",
    "dataset = DatasetDict({\n",
    "    \"train\": Dataset.from_pandas(train, preserve_index=False),\n",
    "    \"test\": Dataset.from_pandas(test, preserve_index=False),\n",
    "    \"validation\": Dataset.from_pandas(validation, preserve_index=False)\n",
    "})"
   ]
  },
  {
   "cell_type": "code",
   "execution_count": null,
   "metadata": {
    "colab": {
     "base_uri": "https://localhost:8080/"
    },
    "id": "y7-txgzZAdtq",
    "outputId": "4923c959-5e7f-4af6-a8e8-99a502af6d9d"
   },
   "outputs": [
    {
     "data": {
      "text/plain": [
       "DatasetDict({\n",
       "    train: Dataset({\n",
       "        features: ['text', 'label', 'label_name', 'Words per Tweet'],\n",
       "        num_rows: 11200\n",
       "    })\n",
       "    test: Dataset({\n",
       "        features: ['text', 'label', 'label_name', 'Words per Tweet'],\n",
       "        num_rows: 3200\n",
       "    })\n",
       "    validation: Dataset({\n",
       "        features: ['text', 'label', 'label_name', 'Words per Tweet'],\n",
       "        num_rows: 1600\n",
       "    })\n",
       "})"
      ]
     },
     "execution_count": 30,
     "metadata": {},
     "output_type": "execute_result"
    }
   ],
   "source": [
    "dataset"
   ]
  },
  {
   "cell_type": "markdown",
   "metadata": {
    "id": "a6I7RSA82-Hv"
   },
   "source": [
    "#Tokenization of emotion/sentiment data"
   ]
  },
  {
   "cell_type": "code",
   "execution_count": null,
   "metadata": {
    "colab": {
     "base_uri": "https://localhost:8080/"
    },
    "id": "dAU99OvUAh5l",
    "outputId": "489d9d48-b250-4bd5-e2b8-98ea8966c396"
   },
   "outputs": [
    {
     "data": {
      "text/plain": [
       "{'text': 'i restrain all emotion asked asked her su wen is a laugh said see us smiling at the side maybe the feeling that i am sincere concern for su wen is right',\n",
       " 'label': 1,\n",
       " 'label_name': 'joy',\n",
       " 'Words per Tweet': 32}"
      ]
     },
     "execution_count": 31,
     "metadata": {},
     "output_type": "execute_result"
    }
   ],
   "source": [
    "dataset['train'][0]"
   ]
  },
  {
   "cell_type": "code",
   "execution_count": null,
   "metadata": {
    "colab": {
     "base_uri": "https://localhost:8080/"
    },
    "id": "HuDB2S1EAomt",
    "outputId": "3ac17837-39c0-4b4b-973e-0be1724550c9"
   },
   "outputs": [
    {
     "name": "stdout",
     "output_type": "stream",
     "text": [
      "{'input_ids': [[101, 1045, 28467, 2035, 7603, 2356, 2356, 2014, 10514, 19181, 2003, 1037, 4756, 2056, 2156, 2149, 5629, 2012, 1996, 2217, 2672, 1996, 3110, 2008, 1045, 2572, 18006, 5142, 2005, 10514, 19181, 2003, 2157, 102, 0, 0, 0, 0, 0, 0, 0, 0, 0, 0, 0, 0, 0, 0, 0, 0, 0, 0, 0, 0, 0, 0, 0, 0], [101, 1045, 9544, 2000, 4133, 1999, 1996, 2312, 2282, 2012, 1996, 2067, 2007, 2049, 4799, 2723, 1998, 2039, 14854, 24167, 8397, 2029, 2038, 1037, 27768, 2514, 1999, 2621, 1037, 7132, 9478, 13783, 2083, 1996, 18686, 14694, 2004, 2017, 7842, 6767, 3126, 2115, 2312, 3538, 1997, 9850, 2030, 3383, 2070, 1997, 2037, 3297, 1037, 17850, 12879, 8299, 4372, 102]], 'token_type_ids': [[0, 0, 0, 0, 0, 0, 0, 0, 0, 0, 0, 0, 0, 0, 0, 0, 0, 0, 0, 0, 0, 0, 0, 0, 0, 0, 0, 0, 0, 0, 0, 0, 0, 0, 0, 0, 0, 0, 0, 0, 0, 0, 0, 0, 0, 0, 0, 0, 0, 0, 0, 0, 0, 0, 0, 0, 0, 0], [0, 0, 0, 0, 0, 0, 0, 0, 0, 0, 0, 0, 0, 0, 0, 0, 0, 0, 0, 0, 0, 0, 0, 0, 0, 0, 0, 0, 0, 0, 0, 0, 0, 0, 0, 0, 0, 0, 0, 0, 0, 0, 0, 0, 0, 0, 0, 0, 0, 0, 0, 0, 0, 0, 0, 0, 0, 0]], 'attention_mask': [[1, 1, 1, 1, 1, 1, 1, 1, 1, 1, 1, 1, 1, 1, 1, 1, 1, 1, 1, 1, 1, 1, 1, 1, 1, 1, 1, 1, 1, 1, 1, 1, 1, 1, 0, 0, 0, 0, 0, 0, 0, 0, 0, 0, 0, 0, 0, 0, 0, 0, 0, 0, 0, 0, 0, 0, 0, 0], [1, 1, 1, 1, 1, 1, 1, 1, 1, 1, 1, 1, 1, 1, 1, 1, 1, 1, 1, 1, 1, 1, 1, 1, 1, 1, 1, 1, 1, 1, 1, 1, 1, 1, 1, 1, 1, 1, 1, 1, 1, 1, 1, 1, 1, 1, 1, 1, 1, 1, 1, 1, 1, 1, 1, 1, 1, 1]]}\n"
     ]
    }
   ],
   "source": [
    "def tokenize(batch):\n",
    "    temp= tokenizer(batch['text'], padding=True, truncation=True, return_token_type_ids=True,)\n",
    "    return temp\n",
    "\n",
    "print(tokenize(dataset['train'][:2]))"
   ]
  },
  {
   "cell_type": "code",
   "execution_count": null,
   "metadata": {
    "colab": {
     "base_uri": "https://localhost:8080/",
     "height": 112,
     "referenced_widgets": [
      "f1711b21e8a54e8eb64817cf62df775f",
      "af5ff7e202a04855b17db89c7252474c",
      "8beca28728204842af3a24d1357881a4",
      "3e668e26fa494e488aa87b02a6b46701",
      "ff424862541841049ec5add876b068b5",
      "4ce4e36d89a94a05ad37155fac1b04ae",
      "0afcd89584554a37993310516570953e",
      "91a18184184d406fbac990a7aba273aa",
      "161c7bb4575e4c16ad9c2e44888d7cbe",
      "f3e10c155b164486ba440c937f512962",
      "b18a13463efd4685809e595b3aa2ca4c",
      "0420bd03387f4fb4978fdc5da0021ca6",
      "2bf1cccf2113416591b1deb5d94b87bc",
      "c821f17f7cdf42e091e3217c3c77e7c8",
      "7cea99b75f7d4ca391e191609e977fc1",
      "c90b5aa0571c46c7ae04329e67e3ec89",
      "2a543237a41f48a38996a0faee12ae95",
      "d463a4b8858e46588e62f389a3dcfd0a",
      "0c09ddc5a7fa4451b0f33666bfb0a5d7",
      "ec0bd899ac5b4d5ca3f5e3b1d3ea6c26",
      "620c413e423c417fa82daf0915664a26",
      "240b300176d548c5a54184cbbf676aa2",
      "f3f213beab204d2d9256044f8a9ca9e9",
      "4add89e4f66d4fe394040e5c41f3b59e",
      "6506c54dd4764aceb3f098a1c8fd65a1",
      "d789adcece7145afa6167027c6f19615",
      "e2d813021ca54e89a17c3f75d47e3ea2",
      "2d5e3a521d774ecc946b6f4430a16f92",
      "256909de97ee4b51bc5667fb6cca2c80",
      "4fe813be78f249c3bab96add41787148",
      "dcef958f43c74a96baaacf6079170b2e",
      "fbad74329ecc4b62832e1cafedaded8b",
      "96c1861c1efe42e6bf2fe004597557e1"
     ]
    },
    "id": "PMMoLAwL2G2A",
    "outputId": "8fb94067-2475-4298-a6e0-9ce3cdbc74c0"
   },
   "outputs": [
    {
     "data": {
      "application/vnd.jupyter.widget-view+json": {
       "model_id": "f1711b21e8a54e8eb64817cf62df775f",
       "version_major": 2,
       "version_minor": 0
      },
      "text/plain": [
       "Map:   0%|          | 0/11200 [00:00<?, ? examples/s]"
      ]
     },
     "metadata": {},
     "output_type": "display_data"
    },
    {
     "data": {
      "application/vnd.jupyter.widget-view+json": {
       "model_id": "0420bd03387f4fb4978fdc5da0021ca6",
       "version_major": 2,
       "version_minor": 0
      },
      "text/plain": [
       "Map:   0%|          | 0/3200 [00:00<?, ? examples/s]"
      ]
     },
     "metadata": {},
     "output_type": "display_data"
    },
    {
     "data": {
      "application/vnd.jupyter.widget-view+json": {
       "model_id": "f3f213beab204d2d9256044f8a9ca9e9",
       "version_major": 2,
       "version_minor": 0
      },
      "text/plain": [
       "Map:   0%|          | 0/1600 [00:00<?, ? examples/s]"
      ]
     },
     "metadata": {},
     "output_type": "display_data"
    }
   ],
   "source": [
    "emotion_encoded=dataset.map(tokenize, batched=True, batch_size=None)"
   ]
  },
  {
   "cell_type": "code",
   "execution_count": null,
   "metadata": {
    "colab": {
     "base_uri": "https://localhost:8080/"
    },
    "id": "GrjkF8aV899b",
    "outputId": "bff2ccc9-ab28-4d5f-9d09-0c95cddb884f"
   },
   "outputs": [
    {
     "data": {
      "text/plain": [
       "({'joy': 1, 'love': 2, 'anger': 3, 'fear': 4, 'sadness': 0, 'surprise': 5},\n",
       " {1: 'joy', 2: 'love', 3: 'anger', 4: 'fear', 0: 'sadness', 5: 'surprise'})"
      ]
     },
     "execution_count": 34,
     "metadata": {},
     "output_type": "execute_result"
    }
   ],
   "source": [
    "label2id = {x['label_name']:x['label'] for x in dataset ['train']}\n",
    "id2label = {v:k for k,v in label2id.items()}\n",
    "label2id, id2label"
   ]
  },
  {
   "cell_type": "markdown",
   "metadata": {
    "id": "fK3SZEnDAPSv"
   },
   "source": [
    "#Model Building"
   ]
  },
  {
   "cell_type": "code",
   "execution_count": null,
   "metadata": {
    "id": "cs-1tsD293z8"
   },
   "outputs": [],
   "source": [
    "from transformers import AutoModel\n",
    "import torch"
   ]
  },
  {
   "cell_type": "code",
   "execution_count": null,
   "metadata": {
    "colab": {
     "base_uri": "https://localhost:8080/",
     "height": 49,
     "referenced_widgets": [
      "ca5dcaf84c5a4c9a940ec0d80de134ac",
      "0b8843f4e7de4a9d8273913f2c51b50e",
      "67a49eb58bf94ae4b1e3dfa63a48395b",
      "a55ff537e1ff4faf9166903decb05856",
      "7f7f65d6c4524992b578c04a0ee75f37",
      "00956f83244c4c9daf8707e28435cfa3",
      "9687d1b7b7b149e0b33ae3b82626e2dc",
      "a0214da67d724c53ab239b3367bb71a2",
      "6016c49948684e599632ed3e7964e6bb",
      "03097bd7e760450aae5be5689796323e",
      "f95368cc47314cbdb1e2cc2ba299c3e4"
     ]
    },
    "id": "78qAUUxwAZYg",
    "outputId": "7887a410-ff2e-4794-f149-e368c22d5baf"
   },
   "outputs": [
    {
     "data": {
      "application/vnd.jupyter.widget-view+json": {
       "model_id": "ca5dcaf84c5a4c9a940ec0d80de134ac",
       "version_major": 2,
       "version_minor": 0
      },
      "text/plain": [
       "model.safetensors:   0%|          | 0.00/440M [00:00<?, ?B/s]"
      ]
     },
     "metadata": {},
     "output_type": "display_data"
    }
   ],
   "source": [
    "model= AutoModel.from_pretrained(model_ckpt)"
   ]
  },
  {
   "cell_type": "code",
   "execution_count": null,
   "metadata": {
    "colab": {
     "base_uri": "https://localhost:8080/"
    },
    "id": "4m6401MsAfOK",
    "outputId": "2cec90e8-6810-47cb-bd0a-82fa8bc7b95e"
   },
   "outputs": [
    {
     "data": {
      "text/plain": [
       "BertModel(\n",
       "  (embeddings): BertEmbeddings(\n",
       "    (word_embeddings): Embedding(30522, 768, padding_idx=0)\n",
       "    (position_embeddings): Embedding(512, 768)\n",
       "    (token_type_embeddings): Embedding(2, 768)\n",
       "    (LayerNorm): LayerNorm((768,), eps=1e-12, elementwise_affine=True)\n",
       "    (dropout): Dropout(p=0.1, inplace=False)\n",
       "  )\n",
       "  (encoder): BertEncoder(\n",
       "    (layer): ModuleList(\n",
       "      (0-11): 12 x BertLayer(\n",
       "        (attention): BertAttention(\n",
       "          (self): BertSdpaSelfAttention(\n",
       "            (query): Linear(in_features=768, out_features=768, bias=True)\n",
       "            (key): Linear(in_features=768, out_features=768, bias=True)\n",
       "            (value): Linear(in_features=768, out_features=768, bias=True)\n",
       "            (dropout): Dropout(p=0.1, inplace=False)\n",
       "          )\n",
       "          (output): BertSelfOutput(\n",
       "            (dense): Linear(in_features=768, out_features=768, bias=True)\n",
       "            (LayerNorm): LayerNorm((768,), eps=1e-12, elementwise_affine=True)\n",
       "            (dropout): Dropout(p=0.1, inplace=False)\n",
       "          )\n",
       "        )\n",
       "        (intermediate): BertIntermediate(\n",
       "          (dense): Linear(in_features=768, out_features=3072, bias=True)\n",
       "          (intermediate_act_fn): GELUActivation()\n",
       "        )\n",
       "        (output): BertOutput(\n",
       "          (dense): Linear(in_features=3072, out_features=768, bias=True)\n",
       "          (LayerNorm): LayerNorm((768,), eps=1e-12, elementwise_affine=True)\n",
       "          (dropout): Dropout(p=0.1, inplace=False)\n",
       "        )\n",
       "      )\n",
       "    )\n",
       "  )\n",
       "  (pooler): BertPooler(\n",
       "    (dense): Linear(in_features=768, out_features=768, bias=True)\n",
       "    (activation): Tanh()\n",
       "  )\n",
       ")"
      ]
     },
     "execution_count": 37,
     "metadata": {},
     "output_type": "execute_result"
    }
   ],
   "source": [
    "model"
   ]
  },
  {
   "cell_type": "code",
   "execution_count": null,
   "metadata": {
    "colab": {
     "base_uri": "https://localhost:8080/"
    },
    "id": "OJVCAr6AAsyr",
    "outputId": "cd5b02b2-4021-4175-dbc0-4d023710a77a"
   },
   "outputs": [
    {
     "data": {
      "text/plain": [
       "BertConfig {\n",
       "  \"_attn_implementation_autoset\": true,\n",
       "  \"_name_or_path\": \"bert-base-uncased\",\n",
       "  \"architectures\": [\n",
       "    \"BertForMaskedLM\"\n",
       "  ],\n",
       "  \"attention_probs_dropout_prob\": 0.1,\n",
       "  \"classifier_dropout\": null,\n",
       "  \"gradient_checkpointing\": false,\n",
       "  \"hidden_act\": \"gelu\",\n",
       "  \"hidden_dropout_prob\": 0.1,\n",
       "  \"hidden_size\": 768,\n",
       "  \"initializer_range\": 0.02,\n",
       "  \"intermediate_size\": 3072,\n",
       "  \"layer_norm_eps\": 1e-12,\n",
       "  \"max_position_embeddings\": 512,\n",
       "  \"model_type\": \"bert\",\n",
       "  \"num_attention_heads\": 12,\n",
       "  \"num_hidden_layers\": 12,\n",
       "  \"pad_token_id\": 0,\n",
       "  \"position_embedding_type\": \"absolute\",\n",
       "  \"transformers_version\": \"4.48.0\",\n",
       "  \"type_vocab_size\": 2,\n",
       "  \"use_cache\": true,\n",
       "  \"vocab_size\": 30522\n",
       "}"
      ]
     },
     "execution_count": 38,
     "metadata": {},
     "output_type": "execute_result"
    }
   ],
   "source": [
    "model.config\n",
    "model_two=\"bert-base-cased\""
   ]
  },
  {
   "cell_type": "code",
   "execution_count": null,
   "metadata": {
    "colab": {
     "base_uri": "https://localhost:8080/"
    },
    "id": "7bqNnPp9BioT",
    "outputId": "3570e62c-8823-4ce9-c50b-1cf3338bef8b"
   },
   "outputs": [
    {
     "name": "stderr",
     "output_type": "stream",
     "text": [
      "Some weights of BertForSequenceClassification were not initialized from the model checkpoint at bert-base-uncased and are newly initialized: ['classifier.bias', 'classifier.weight']\n",
      "You should probably TRAIN this model on a down-stream task to be able to use it for predictions and inference.\n"
     ]
    }
   ],
   "source": [
    "from transformers import AutoModelForSequenceClassification, AutoConfig\n",
    "Num_labels = len(label2id)\n",
    "device = torch.device (\"cuda\" if torch. cuda.is_available() else \"cpu\")\n",
    "config = AutoConfig.from_pretrained(model_ckpt, label2id=label2id, id2label=id2label)\n",
    "model = AutoModelForSequenceClassification.from_pretrained(model_ckpt, config=config).to(device)"
   ]
  },
  {
   "cell_type": "code",
   "execution_count": null,
   "metadata": {
    "colab": {
     "base_uri": "https://localhost:8080/"
    },
    "id": "hVGyNVL9Dfox",
    "outputId": "e4c8e4b2-d2ed-4e1e-90e4-d4288e6873a7"
   },
   "outputs": [
    {
     "data": {
      "text/plain": [
       "device(type='cpu')"
      ]
     },
     "execution_count": 49,
     "metadata": {},
     "output_type": "execute_result"
    }
   ],
   "source": [
    "device\n"
   ]
  },
  {
   "cell_type": "code",
   "execution_count": null,
   "metadata": {
    "colab": {
     "base_uri": "https://localhost:8080/"
    },
    "id": "0szR-WaTFHi5",
    "outputId": "4076fd71-c79f-4e79-eb32-71169e76d3c1"
   },
   "outputs": [
    {
     "data": {
      "text/plain": [
       "BertForSequenceClassification(\n",
       "  (bert): BertModel(\n",
       "    (embeddings): BertEmbeddings(\n",
       "      (word_embeddings): Embedding(30522, 768, padding_idx=0)\n",
       "      (position_embeddings): Embedding(512, 768)\n",
       "      (token_type_embeddings): Embedding(2, 768)\n",
       "      (LayerNorm): LayerNorm((768,), eps=1e-12, elementwise_affine=True)\n",
       "      (dropout): Dropout(p=0.1, inplace=False)\n",
       "    )\n",
       "    (encoder): BertEncoder(\n",
       "      (layer): ModuleList(\n",
       "        (0-11): 12 x BertLayer(\n",
       "          (attention): BertAttention(\n",
       "            (self): BertSdpaSelfAttention(\n",
       "              (query): Linear(in_features=768, out_features=768, bias=True)\n",
       "              (key): Linear(in_features=768, out_features=768, bias=True)\n",
       "              (value): Linear(in_features=768, out_features=768, bias=True)\n",
       "              (dropout): Dropout(p=0.1, inplace=False)\n",
       "            )\n",
       "            (output): BertSelfOutput(\n",
       "              (dense): Linear(in_features=768, out_features=768, bias=True)\n",
       "              (LayerNorm): LayerNorm((768,), eps=1e-12, elementwise_affine=True)\n",
       "              (dropout): Dropout(p=0.1, inplace=False)\n",
       "            )\n",
       "          )\n",
       "          (intermediate): BertIntermediate(\n",
       "            (dense): Linear(in_features=768, out_features=3072, bias=True)\n",
       "            (intermediate_act_fn): GELUActivation()\n",
       "          )\n",
       "          (output): BertOutput(\n",
       "            (dense): Linear(in_features=3072, out_features=768, bias=True)\n",
       "            (LayerNorm): LayerNorm((768,), eps=1e-12, elementwise_affine=True)\n",
       "            (dropout): Dropout(p=0.1, inplace=False)\n",
       "          )\n",
       "        )\n",
       "      )\n",
       "    )\n",
       "    (pooler): BertPooler(\n",
       "      (dense): Linear(in_features=768, out_features=768, bias=True)\n",
       "      (activation): Tanh()\n",
       "    )\n",
       "  )\n",
       "  (dropout): Dropout(p=0.1, inplace=False)\n",
       "  (classifier): Linear(in_features=768, out_features=6, bias=True)\n",
       ")"
      ]
     },
     "execution_count": 50,
     "metadata": {},
     "output_type": "execute_result"
    }
   ],
   "source": [
    "model"
   ]
  },
  {
   "cell_type": "code",
   "execution_count": null,
   "metadata": {
    "colab": {
     "base_uri": "https://localhost:8080/"
    },
    "id": "xiwS8PY8FePn",
    "outputId": "914c3237-f0d3-4d14-e27a-ba017b22f858"
   },
   "outputs": [
    {
     "name": "stderr",
     "output_type": "stream",
     "text": [
      "/usr/local/lib/python3.10/dist-packages/transformers/training_args.py:1575: FutureWarning: `evaluation_strategy` is deprecated and will be removed in version 4.46 of 🤗 Transformers. Use `eval_strategy` instead\n",
      "  warnings.warn(\n"
     ]
    }
   ],
   "source": [
    "from transformers import TrainingArguments\n",
    "\n",
    "batch_size=64\n",
    "training_dir = \"bert_base_training_dir\"\n",
    "training_args= TrainingArguments(output_dir = training_dir,\n",
    "              overwrite_output_dir = True,\n",
    "              num_train_epochs = 2,\n",
    "              learning_rate = 2e-5,\n",
    "              per_device_train_batch_size = batch_size,\n",
    "              per_device_eval_batch_size = batch_size,\n",
    "              weight_decay = 0.01,\n",
    "              evaluation_strategy = 'epoch',\n",
    "              disable_tqdm = False\n",
    "    )"
   ]
  },
  {
   "cell_type": "code",
   "execution_count": null,
   "metadata": {
    "colab": {
     "base_uri": "https://localhost:8080/"
    },
    "id": "2u5JoYZYGgG_",
    "outputId": "a8454112-01c0-4c40-db24-6504b9392d75"
   },
   "outputs": [
    {
     "name": "stdout",
     "output_type": "stream",
     "text": [
      "Collecting evaluate\n",
      "  Downloading evaluate-0.4.3-py3-none-any.whl.metadata (9.2 kB)\n",
      "Requirement already satisfied: datasets>=2.0.0 in /usr/local/lib/python3.10/dist-packages (from evaluate) (3.2.0)\n",
      "Requirement already satisfied: numpy>=1.17 in /usr/local/lib/python3.10/dist-packages (from evaluate) (1.26.4)\n",
      "Requirement already satisfied: dill in /usr/local/lib/python3.10/dist-packages (from evaluate) (0.3.8)\n",
      "Requirement already satisfied: pandas in /usr/local/lib/python3.10/dist-packages (from evaluate) (2.2.2)\n",
      "Requirement already satisfied: requests>=2.19.0 in /usr/local/lib/python3.10/dist-packages (from evaluate) (2.32.3)\n",
      "Requirement already satisfied: tqdm>=4.62.1 in /usr/local/lib/python3.10/dist-packages (from evaluate) (4.67.1)\n",
      "Requirement already satisfied: xxhash in /usr/local/lib/python3.10/dist-packages (from evaluate) (3.5.0)\n",
      "Requirement already satisfied: multiprocess in /usr/local/lib/python3.10/dist-packages (from evaluate) (0.70.16)\n",
      "Requirement already satisfied: fsspec>=2021.05.0 in /usr/local/lib/python3.10/dist-packages (from fsspec[http]>=2021.05.0->evaluate) (2024.9.0)\n",
      "Requirement already satisfied: huggingface-hub>=0.7.0 in /usr/local/lib/python3.10/dist-packages (from evaluate) (0.27.0)\n",
      "Requirement already satisfied: packaging in /usr/local/lib/python3.10/dist-packages (from evaluate) (24.2)\n",
      "Requirement already satisfied: filelock in /usr/local/lib/python3.10/dist-packages (from datasets>=2.0.0->evaluate) (3.16.1)\n",
      "Requirement already satisfied: pyarrow>=15.0.0 in /usr/local/lib/python3.10/dist-packages (from datasets>=2.0.0->evaluate) (17.0.0)\n",
      "Requirement already satisfied: aiohttp in /usr/local/lib/python3.10/dist-packages (from datasets>=2.0.0->evaluate) (3.11.10)\n",
      "Requirement already satisfied: pyyaml>=5.1 in /usr/local/lib/python3.10/dist-packages (from datasets>=2.0.0->evaluate) (6.0.2)\n",
      "Requirement already satisfied: typing-extensions>=3.7.4.3 in /usr/local/lib/python3.10/dist-packages (from huggingface-hub>=0.7.0->evaluate) (4.12.2)\n",
      "Requirement already satisfied: charset-normalizer<4,>=2 in /usr/local/lib/python3.10/dist-packages (from requests>=2.19.0->evaluate) (3.4.0)\n",
      "Requirement already satisfied: idna<4,>=2.5 in /usr/local/lib/python3.10/dist-packages (from requests>=2.19.0->evaluate) (3.10)\n",
      "Requirement already satisfied: urllib3<3,>=1.21.1 in /usr/local/lib/python3.10/dist-packages (from requests>=2.19.0->evaluate) (2.2.3)\n",
      "Requirement already satisfied: certifi>=2017.4.17 in /usr/local/lib/python3.10/dist-packages (from requests>=2.19.0->evaluate) (2024.12.14)\n",
      "Requirement already satisfied: python-dateutil>=2.8.2 in /usr/local/lib/python3.10/dist-packages (from pandas->evaluate) (2.8.2)\n",
      "Requirement already satisfied: pytz>=2020.1 in /usr/local/lib/python3.10/dist-packages (from pandas->evaluate) (2024.2)\n",
      "Requirement already satisfied: tzdata>=2022.7 in /usr/local/lib/python3.10/dist-packages (from pandas->evaluate) (2024.2)\n",
      "Requirement already satisfied: aiohappyeyeballs>=2.3.0 in /usr/local/lib/python3.10/dist-packages (from aiohttp->datasets>=2.0.0->evaluate) (2.4.4)\n",
      "Requirement already satisfied: aiosignal>=1.1.2 in /usr/local/lib/python3.10/dist-packages (from aiohttp->datasets>=2.0.0->evaluate) (1.3.2)\n",
      "Requirement already satisfied: async-timeout<6.0,>=4.0 in /usr/local/lib/python3.10/dist-packages (from aiohttp->datasets>=2.0.0->evaluate) (4.0.3)\n",
      "Requirement already satisfied: attrs>=17.3.0 in /usr/local/lib/python3.10/dist-packages (from aiohttp->datasets>=2.0.0->evaluate) (24.3.0)\n",
      "Requirement already satisfied: frozenlist>=1.1.1 in /usr/local/lib/python3.10/dist-packages (from aiohttp->datasets>=2.0.0->evaluate) (1.5.0)\n",
      "Requirement already satisfied: multidict<7.0,>=4.5 in /usr/local/lib/python3.10/dist-packages (from aiohttp->datasets>=2.0.0->evaluate) (6.1.0)\n",
      "Requirement already satisfied: propcache>=0.2.0 in /usr/local/lib/python3.10/dist-packages (from aiohttp->datasets>=2.0.0->evaluate) (0.2.1)\n",
      "Requirement already satisfied: yarl<2.0,>=1.17.0 in /usr/local/lib/python3.10/dist-packages (from aiohttp->datasets>=2.0.0->evaluate) (1.18.3)\n",
      "Requirement already satisfied: six>=1.5 in /usr/local/lib/python3.10/dist-packages (from python-dateutil>=2.8.2->pandas->evaluate) (1.17.0)\n",
      "Downloading evaluate-0.4.3-py3-none-any.whl (84 kB)\n",
      "\u001b[2K   \u001b[90m━━━━━━━━━━━━━━━━━━━━━━━━━━━━━━━━━━━━━━━━\u001b[0m \u001b[32m84.0/84.0 kB\u001b[0m \u001b[31m2.9 MB/s\u001b[0m eta \u001b[36m0:00:00\u001b[0m\n",
      "\u001b[?25hInstalling collected packages: evaluate\n",
      "Successfully installed evaluate-0.4.3\n"
     ]
    }
   ],
   "source": [
    "! pip install evaluate"
   ]
  },
  {
   "cell_type": "code",
   "execution_count": null,
   "metadata": {
    "colab": {
     "base_uri": "https://localhost:8080/",
     "height": 49,
     "referenced_widgets": [
      "0da5d20225b9415594f7e9dd68b85e8a",
      "985e624e8a194d05b0e2c8bd97a61ec3",
      "6cce0426c3784562a5f8fb131e3b1178",
      "05544e59076f46fe92089bebd078e982",
      "e2bc66aa905c4a84a28ea0a763305067",
      "fb3140f321a745649d160f3dd8b24743",
      "6c7e879be376491e85d578614d08fa08",
      "de091e016ee14a61afb2d5cf5b81a552",
      "abb086171fb146b996bf8240fc3a46d0",
      "af92a7218f9d40a5ba9472cbf3edc18a",
      "1be269841bb943229dec58fdfd6790a6"
     ]
    },
    "id": "e2KgeAP2HVJP",
    "outputId": "02421d0a-74b5-4e1d-f193-f66d616bba89"
   },
   "outputs": [
    {
     "data": {
      "application/vnd.jupyter.widget-view+json": {
       "model_id": "0da5d20225b9415594f7e9dd68b85e8a",
       "version_major": 2,
       "version_minor": 0
      },
      "text/plain": [
       "Downloading builder script:   0%|          | 0.00/4.20k [00:00<?, ?B/s]"
      ]
     },
     "metadata": {},
     "output_type": "display_data"
    }
   ],
   "source": []
  },
  {
   "cell_type": "markdown",
   "metadata": {
    "id": "0Jo-z_vpIeH8"
   },
   "source": [
    "other than the above method, you can also use sklearn to calc accuracy"
   ]
  },
  {
   "cell_type": "code",
   "execution_count": null,
   "metadata": {
    "id": "NkSFHeKSITjE"
   },
   "outputs": [],
   "source": [
    "from sklearn.metrics import accuracy_score, f1_score\n",
    "\n",
    "def compute_metrics (pred) :\n",
    "    labels = pred.label_ids\n",
    "    preds = pred.predictions.argmax(-1)\n",
    "    f1 = f1_score(labels, preds, average=\"weighted\")\n",
    "    acc = accuracy_score(labels, preds)\n",
    "    return {\"accuracy\": acc, \"f1\": f1}"
   ]
  },
  {
   "cell_type": "markdown",
   "metadata": {
    "id": "a3AM3brXJRpI"
   },
   "source": [
    "#Build Model and Trainer"
   ]
  },
  {
   "cell_type": "code",
   "execution_count": null,
   "metadata": {
    "colab": {
     "base_uri": "https://localhost:8080/"
    },
    "id": "xfXMvHH4JKxR",
    "outputId": "a470019c-e44e-4e49-a45c-3ad0b114e73d"
   },
   "outputs": [
    {
     "name": "stderr",
     "output_type": "stream",
     "text": [
      "<ipython-input-61-f7f22c6f6a80>:2: FutureWarning: `tokenizer` is deprecated and will be removed in version 5.0.0 for `Trainer.__init__`. Use `processing_class` instead.\n",
      "  trainer = Trainer(\n"
     ]
    }
   ],
   "source": [
    "from transformers import Trainer\n",
    "trainer = Trainer(\n",
    "    model=model,\n",
    "    args=training_args,\n",
    "    train_dataset=emotion_encoded['train'],\n",
    "    eval_dataset=emotion_encoded['validation'],\n",
    "    compute_metrics=compute_metrics,\n",
    "    tokenizer=tokenizer\n",
    ")"
   ]
  },
  {
   "cell_type": "code",
   "execution_count": null,
   "metadata": {
    "colab": {
     "base_uri": "https://localhost:8080/",
     "height": 252
    },
    "id": "Nz_0rKbLJyCu",
    "outputId": "d96c7eb9-8b5d-4afb-9da9-f8fe8f80e0c1"
   },
   "outputs": [
    {
     "data": {
      "application/javascript": [
       "\n",
       "        window._wandbApiKey = new Promise((resolve, reject) => {\n",
       "            function loadScript(url) {\n",
       "            return new Promise(function(resolve, reject) {\n",
       "                let newScript = document.createElement(\"script\");\n",
       "                newScript.onerror = reject;\n",
       "                newScript.onload = resolve;\n",
       "                document.body.appendChild(newScript);\n",
       "                newScript.src = url;\n",
       "            });\n",
       "            }\n",
       "            loadScript(\"https://cdn.jsdelivr.net/npm/postmate/build/postmate.min.js\").then(() => {\n",
       "            const iframe = document.createElement('iframe')\n",
       "            iframe.style.cssText = \"width:0;height:0;border:none\"\n",
       "            document.body.appendChild(iframe)\n",
       "            const handshake = new Postmate({\n",
       "                container: iframe,\n",
       "                url: 'https://wandb.ai/authorize'\n",
       "            });\n",
       "            const timeout = setTimeout(() => reject(\"Couldn't auto authenticate\"), 5000)\n",
       "            handshake.then(function(child) {\n",
       "                child.on('authorize', data => {\n",
       "                    clearTimeout(timeout)\n",
       "                    resolve(data)\n",
       "                });\n",
       "            });\n",
       "            })\n",
       "        });\n",
       "    "
      ],
      "text/plain": [
       "<IPython.core.display.Javascript object>"
      ]
     },
     "metadata": {},
     "output_type": "display_data"
    },
    {
     "metadata": {
      "tags": null
     },
     "name": "stderr",
     "output_type": "stream",
     "text": [
      "\u001b[34m\u001b[1mwandb\u001b[0m: Logging into wandb.ai. (Learn how to deploy a W&B server locally: https://wandb.me/wandb-server)\n",
      "\u001b[34m\u001b[1mwandb\u001b[0m: You can find your API key in your browser here: https://wandb.ai/authorize\n",
      "wandb: Paste an API key from your profile and hit enter, or press ctrl+c to quit:\u001b[34m\u001b[1mwandb\u001b[0m: Appending key for api.wandb.ai to your netrc file: /root/.netrc\n"
     ]
    },
    {
     "data": {
      "text/html": [
       "Tracking run with wandb version 0.19.1"
      ],
      "text/plain": [
       "<IPython.core.display.HTML object>"
      ]
     },
     "metadata": {},
     "output_type": "display_data"
    },
    {
     "data": {
      "text/html": [
       "Run data is saved locally in <code>/content/wandb/run-20250116_125643-q1l0mde3</code>"
      ],
      "text/plain": [
       "<IPython.core.display.HTML object>"
      ]
     },
     "metadata": {},
     "output_type": "display_data"
    },
    {
     "data": {
      "text/html": [
       "Syncing run <strong><a href='https://wandb.ai/paramsonihere-indian-institute-of-technology-kanpur/huggingface/runs/q1l0mde3' target=\"_blank\">bert_base_training_dir</a></strong> to <a href='https://wandb.ai/paramsonihere-indian-institute-of-technology-kanpur/huggingface' target=\"_blank\">Weights & Biases</a> (<a href='https://wandb.me/developer-guide' target=\"_blank\">docs</a>)<br>"
      ],
      "text/plain": [
       "<IPython.core.display.HTML object>"
      ]
     },
     "metadata": {},
     "output_type": "display_data"
    },
    {
     "data": {
      "text/html": [
       " View project at <a href='https://wandb.ai/paramsonihere-indian-institute-of-technology-kanpur/huggingface' target=\"_blank\">https://wandb.ai/paramsonihere-indian-institute-of-technology-kanpur/huggingface</a>"
      ],
      "text/plain": [
       "<IPython.core.display.HTML object>"
      ]
     },
     "metadata": {},
     "output_type": "display_data"
    },
    {
     "data": {
      "text/html": [
       " View run at <a href='https://wandb.ai/paramsonihere-indian-institute-of-technology-kanpur/huggingface/runs/q1l0mde3' target=\"_blank\">https://wandb.ai/paramsonihere-indian-institute-of-technology-kanpur/huggingface/runs/q1l0mde3</a>"
      ],
      "text/plain": [
       "<IPython.core.display.HTML object>"
      ]
     },
     "metadata": {},
     "output_type": "display_data"
    },
    {
     "data": {
      "text/html": [
       "\n",
       "    <div>\n",
       "      \n",
       "      <progress value='258' max='350' style='width:300px; height:20px; vertical-align: middle;'></progress>\n",
       "      [258/350 4:28:35 < 1:36:31, 0.02 it/s, Epoch 1.47/2]\n",
       "    </div>\n",
       "    <table border=\"1\" class=\"dataframe\">\n",
       "  <thead>\n",
       " <tr style=\"text-align: left;\">\n",
       "      <th>Epoch</th>\n",
       "      <th>Training Loss</th>\n",
       "      <th>Validation Loss</th>\n",
       "      <th>Accuracy</th>\n",
       "      <th>F1</th>\n",
       "    </tr>\n",
       "  </thead>\n",
       "  <tbody>\n",
       "    <tr>\n",
       "      <td>1</td>\n",
       "      <td>No log</td>\n",
       "      <td>0.410873</td>\n",
       "      <td>0.870625</td>\n",
       "      <td>0.867109</td>\n",
       "    </tr>\n",
       "  </tbody>\n",
       "</table><p>"
      ],
      "text/plain": [
       "<IPython.core.display.HTML object>"
      ]
     },
     "metadata": {},
     "output_type": "display_data"
    }
   ],
   "source": [
    "trainer.train()"
   ]
  },
  {
   "cell_type": "code",
   "execution_count": null,
   "metadata": {
    "id": "WKr-j421J2UD"
   },
   "outputs": [],
   "source": [
    "preds_output = trainer predict(emotion_encoded[ 'test'])\n",
    "preds_output.metrics"
   ]
  },
  {
   "cell_type": "code",
   "execution_count": null,
   "metadata": {
    "collapsed": true,
    "id": "1UKshf2_Qutm",
    "jupyter": {
     "outputs_hidden": true
    }
   },
   "outputs": [],
   "source": [
    "preds_output.predictions"
   ]
  },
  {
   "cell_type": "code",
   "execution_count": null,
   "metadata": {
    "id": "Y8GzeRJ8Veqz"
   },
   "outputs": [],
   "source": [
    "y_pred = np.argmax(preds_output.predictions, axis=1)\n",
    "y_true = emotion_encoded['test'][:]['label']"
   ]
  },
  {
   "cell_type": "code",
   "execution_count": null,
   "metadata": {
    "id": "j2tz5GFtWAgs"
   },
   "outputs": [],
   "source": [
    "from sklearn.metrics import classification_report\n",
    "print(classification_report(y_true, y_pred))"
   ]
  },
  {
   "cell_type": "code",
   "execution_count": null,
   "metadata": {
    "id": "VG-4XXwkWNPv"
   },
   "outputs": [],
   "source": [
    "label2id"
   ]
  },
  {
   "cell_type": "code",
   "execution_count": null,
   "metadata": {
    "id": "nn9h1jbpWQQ1"
   },
   "outputs": [],
   "source": [
    "cm = confusion_matrix(y_true, y_pred)\n",
    "\n",
    "plt.figure(figsize=(5,5))\n",
    "sns.heatmap(cm, annot=True, xticklabels=label2id.keys(), yticklabels=label2id.keys(), fmt ='d', cbar=False, cmap='Reds')\n",
    "plt.yabel(\"Actual\")\n",
    "plt.title(\"Confusion Matrix\")\n",
    "plt.xlabel(\"Predicted\")\n",
    "plt.show()"
   ]
  },
  {
   "cell_type": "markdown",
   "metadata": {
    "id": "t0A7gfUZXDMN"
   },
   "source": [
    "#Build Prediction function and save model"
   ]
  },
  {
   "cell_type": "code",
   "execution_count": null,
   "metadata": {
    "id": "VtTjBkxZXnlZ"
   },
   "outputs": [],
   "source": [
    "text = \"I am super happy today. I got it done. Finally!!\"\n",
    "def get_prediction (text) :\n",
    "    input_encoded = tokenizer(text, return_tensors='pt').to(device)\n",
    "    with torch.no_grad():\n",
    "      outputs = model(**input_encoded)\n",
    "    logits = outputs. logits\n",
    "    pred = torch.argmax(logits, dim=1) .item()\n",
    "    return id2label[pred]\n",
    "get_prediction (text)"
   ]
  },
  {
   "cell_type": "code",
   "execution_count": null,
   "metadata": {
    "id": "C-T0Ub4DYlgY"
   },
   "outputs": [],
   "source": [
    "trainer.save_model(\"bert-base-uncased-sentiment-model\")"
   ]
  },
  {
   "cell_type": "code",
   "execution_count": null,
   "metadata": {
    "id": "GpFIgySnY5Pi"
   },
   "outputs": [],
   "source": [
    "# use pipeline for prediciton\n",
    "from transformers import pipeline\n",
    "classifier = pipeline('text-classification', model= 'bert-base-uncased-sentiment-model')\n",
    "classifier([text, 'A very good day indeed', \"We loved mth111\", \"I am feeling anxious\"])"
   ]
  },
  {
   "cell_type": "code",
   "execution_count": 3,
   "metadata": {
    "id": "qJkiw3yWZaVZ"
   },
   "outputs": [],
   "source": [
    "# make a file app.py, and use this code\n",
    "\n",
    "\n",
    "# import streamlit as st\n",
    "# from transformers import pipeline\n",
    "\n",
    "# st.title(\"Fine-Tuning BERT for Twitter Sentiment Classification\")\n",
    "\n",
    "# classifier = pipeline('text-classification', model='bert-base-uncased-sentiment-model')\n",
    "\n",
    "# text = st.text_area(\"Enter Your Tweet Here\")\n",
    "\n",
    "# if st.button(\"Predict\"):\n",
    "#         result = classifier(text)\n",
    "#         st.write(\"Prediction Result:\", result)\n",
    "\n",
    "#"
   ]
  },
  {
   "cell_type": "code",
   "execution_count": null,
   "metadata": {
    "id": "mX8afXtKazZ1"
   },
   "outputs": [],
   "source": []
  }
 ],
 "metadata": {
  "colab": {
   "provenance": []
  },
  "kernelspec": {
   "display_name": "Python 3 (ipykernel)",
   "language": "python",
   "name": "python3"
  },
  "language_info": {
   "codemirror_mode": {
    "name": "ipython",
    "version": 3
   },
   "file_extension": ".py",
   "mimetype": "text/x-python",
   "name": "python",
   "nbconvert_exporter": "python",
   "pygments_lexer": "ipython3",
   "version": "3.11.7"
  }
 },
 "nbformat": 4,
 "nbformat_minor": 4
}
